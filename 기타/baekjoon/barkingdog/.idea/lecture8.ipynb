{
 "cells": [
  {
   "cell_type": "markdown",
   "metadata": {},
   "source": [
    "수식의 괄호쌍 괄호가 일치하는지 판별하는 문제.\n",
    "문자열을 앞에서 부터 읽어, 닫느 ㄴ괄호는 남아있는 괄호 중\n",
    "가장 최근에 들어온 여는 괄호와 짝지어 없애는 명령이다.\n",
    "\n",
    "1여는 괄호 스택 추가\n",
    "닫는 괄호\n"
   ]
  },
  {
   "cell_type": "code",
   "execution_count": null,
   "metadata": {},
   "outputs": [],
   "source": []
  }
 ],
 "metadata": {
  "language_info": {
   "name": "python"
  },
  "orig_nbformat": 4
 },
 "nbformat": 4,
 "nbformat_minor": 2
}
