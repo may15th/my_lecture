{
 "cells": [
  {
   "cell_type": "markdown",
   "metadata": {},
   "source": [
    "# 김구현 교수님 강의\n"
   ]
  },
  {
   "cell_type": "markdown",
   "metadata": {},
   "source": [
    "# 이진 검색(Binary Search)\n",
    " - 자료의 가운데 있는 항목의 키값과 비교\n",
    " - 검색 과정\n",
    "  - 자료의 중앙에 있는 원소 고른다\n",
    "  - 중앙 원소의 값과 찾고자 하는 목표 값 비교\n",
    "  - 목표 값이 중앙 원소 값보다 작으면 자료의 왼쪽 반에 대해서 새로 검색 수행, 크다면 자료의 오른쪽 반에 대해 새로 검색 수행한다.\n",
    "  -찾고자 하는 값 찾을 때까지 1~3 반복 수행한다.\n",
    "\n",
    "  # 선택정렬(selecion sort)\n",
    "  중요도가 높다기 보다는 행렬 연습이라고 생각하는 게 좋다고 함.\n",
    "\n",
    "코드 구현 선택정렬 이진 검색 등 이런 것들 시험나오는 것 같다..\n",
    "\n",
    "선택정렬에서 if문 써놓지마라고 함.\n",
    ".... a[i], a[minIdx] = a[minIdx], a[i]"
   ]
  },
  {
   "cell_type": "markdown",
   "metadata": {},
   "source": []
  },
  {
   "cell_type": "code",
   "execution_count": null,
   "metadata": {},
   "outputs": [],
   "source": [
    "#이진 검색\n",
    "def binarySearch(a,N,key):\n",
    "    start = 0\n",
    "    end =N -1\n",
    "    while start <= end:\n",
    "        middle = (start+end)//2\n",
    "        if a[middle] == key:\n",
    "            return True\n",
    "        elif a[middle] >key:\n",
    "            end =middle - 1\n",
    "        else:\n",
    "            start = middle +1\n",
    "    return False        #검색 실패"
   ]
  },
  {
   "cell_type": "code",
   "execution_count": 2,
   "metadata": {},
   "outputs": [
    {
     "name": "stdout",
     "output_type": "stream",
     "text": [
      "1 0 0 0 [1, 2, 3, 4] 1\n"
     ]
    }
   ],
   "source": [
    "def print_subset(bit, arr, n):\n",
    "    total = 0# 부분집합의 합\n",
    "    for i in range(n):\n",
    "        if bit[i]:\n",
    "            print(arr[i], end = ' ')\n",
    "            total += arr[i]\n",
    "    print(bit, total)\n",
    "\n",
    "arr = [1,2,3,4]\n",
    "bit = [0,0,0,0]\n",
    "for i in range(2):\n",
    "    bit[0] = 1\n",
    "    for j in range(2):\n",
    "        bit[0] = 1\n",
    "        for k in range(2):\n",
    "            bit[0] = 1\n",
    "            for l in range(2):\n",
    "                bit[0] = 1\n",
    "print_subset\n",
    "\n",
    "\n"
   ]
  }
 ],
 "metadata": {
  "kernelspec": {
   "display_name": "Python 3",
   "language": "python",
   "name": "python3"
  },
  "language_info": {
   "codemirror_mode": {
    "name": "ipython",
    "version": 3
   },
   "file_extension": ".py",
   "mimetype": "text/x-python",
   "name": "python",
   "nbconvert_exporter": "python",
   "pygments_lexer": "ipython3",
   "version": "3.9.13"
  },
  "orig_nbformat": 4
 },
 "nbformat": 4,
 "nbformat_minor": 2
}
