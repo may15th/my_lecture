{
 "cells": [
  {
   "cell_type": "code",
   "execution_count": null,
   "metadata": {},
   "outputs": [],
   "source": [
    "\n"
   ]
  },
  {
   "cell_type": "markdown",
   "metadata": {},
   "source": [
    "comb(n,r)\n",
    "    if( r==0 ) print_arr()\n",
    "    elif (n<r) return\n",
    "    else\n",
    "        tr[r-1] = an[n-1]\n",
    "        comb(n-1, r-1)\n",
    "        comb(r-1, r)\n",
    "        "
   ]
  },
  {
   "cell_type": "code",
   "execution_count": 1,
   "metadata": {},
   "outputs": [
    {
     "name": "stdout",
     "output_type": "stream",
     "text": [
      "[3, 4, 5]\n",
      "[2, 4, 5]\n",
      "[1, 4, 5]\n",
      "[2, 3, 5]\n",
      "[1, 3, 5]\n",
      "[1, 2, 5]\n",
      "[2, 3, 4]\n",
      "[1, 3, 4]\n",
      "[1, 2, 4]\n",
      "[1, 2, 3]\n"
     ]
    }
   ],
   "source": [
    "def ncr(n,r):\n",
    "    if r ==0:\n",
    "        print(tr)\n",
    "\n",
    "    elif n<r:   # 남은 원소보다 많은 원소를 선택해야 하는 경우\n",
    "        return  #불가\n",
    "    else:\n",
    "        tr[r-1] = a[n-1]    # a[n-1] 조합에 포함시키는 경우\n",
    "        ncr(n-1, r-1)\n",
    "        ncr(n-1, r)         # a[n-1]을 포함시키지 않는 경우\n",
    "\n",
    "\n",
    "\n",
    "N = 5\n",
    "R = 3\n",
    "a = [1,2,3,4,5]\n",
    "tr = [0] * R\n",
    "ncr(N,R)\n",
    "\n",
    "\n",
    "\n"
   ]
  },
  {
   "cell_type": "code",
   "execution_count": 5,
   "metadata": {},
   "outputs": [
    {
     "name": "stdout",
     "output_type": "stream",
     "text": [
      "2 1\n",
      "3 1\n",
      "4 1\n",
      "5 1\n",
      "6 1\n",
      "3 2\n",
      "4 2\n",
      "5 2\n",
      "6 2\n",
      "4 3\n",
      "5 3\n",
      "6 3\n",
      "5 4\n",
      "6 4\n",
      "6 5\n"
     ]
    }
   ],
   "source": [
    "# ncr 2\n",
    "\n",
    "def ncr(n,r,s):\n",
    "    if r == 0:\n",
    "        print(*comb)\n",
    "    else:\n",
    "        for i in range(s, n-r+1):\n",
    "            comb[r-1] = A[i]\n",
    "            ncr(n, r-1, i+1)\n",
    "\n",
    "A = [1,2,3,4,5,6]\n",
    "N = len(A)\n",
    "R = 2\n",
    "comb = [0] * R\n",
    "\n",
    "ncr(N,R,0)\n"
   ]
  },
  {
   "cell_type": "code",
   "execution_count": null,
   "metadata": {},
   "outputs": [],
   "source": [
    "# 연습문제3_ 부분집합의 합 문제 구현하기\n",
    "# 아래 10 개의 정수 집합에 대한 모든 부분 집합 중 원소의 합이 0이 되는 부분 집합 모두 출력\n",
    "# 조건을 만족하면 끝이 아니라 계속 가야함.\n",
    "# 모두 출력이라, 바이너리 카운팅도 가능하고, 재귀도 됨\n",
    "\n",
    "#(1) 재귀\n",
    "arr = [-1, 3 -9, 6, 7, -6, 1, 5, 4, -2]\n",
    "N = len(arr)\n",
    "\n"
   ]
  }
 ],
 "metadata": {
  "kernelspec": {
   "display_name": "Python 3",
   "language": "python",
   "name": "python3"
  },
  "language_info": {
   "codemirror_mode": {
    "name": "ipython",
    "version": 3
   },
   "file_extension": ".py",
   "mimetype": "text/x-python",
   "name": "python",
   "nbconvert_exporter": "python",
   "pygments_lexer": "ipython3",
   "version": "3.9.13"
  },
  "orig_nbformat": 4
 },
 "nbformat": 4,
 "nbformat_minor": 2
}
