{
 "cells": [
  {
   "cell_type": "markdown",
   "metadata": {},
   "source": [
    "문자열은 immutable하고 직접 수정이 불가하다.\n",
    "문자열을 고치고 싶으면 list에 올리고 처리해야한다.\n"
   ]
  },
  {
   "cell_type": "code",
   "execution_count": 2,
   "metadata": {},
   "outputs": [
    {
     "name": "stdout",
     "output_type": "stream",
     "text": [
      "esreveR\n"
     ]
    }
   ],
   "source": [
    "#문자열 뒤집기\n",
    "s = 'Reverse'\n",
    "s_list = list(s)\n",
    "n = len(s)\n",
    "for i in range(n//2):\n",
    "    s_list[i], s_list[n-1-i] = s_list[n-1-i], s_list[i]\n",
    "s= ''.join(s_list)\n",
    "print(s)\n"
   ]
  },
  {
   "cell_type": "code",
   "execution_count": 6,
   "metadata": {},
   "outputs": [
    {
     "name": "stdout",
     "output_type": "stream",
     "text": [
      "s1 is s4\n",
      "s1 is s4\n",
      "s1 is not s5\n"
     ]
    }
   ],
   "source": [
    "s1 = 'abc'\n",
    "s2 = 'abc'\n",
    "s3 = 'def'\n",
    "s4 = s1\n",
    "s5 = s1[:2] + 'c'\n",
    "\n",
    "#s3 빼고 전부 다 s1과 == 같다\n",
    "## is 만 비교하면되는데\n",
    "\n",
    "if s1 is s2:\n",
    "    print('s1 is s4')\n",
    "else:\n",
    "    print('s1 is not s4')\n",
    "\n",
    "if s1 is s4:\n",
    "    print('s1 is s4')\n",
    "else:\n",
    "    print('s1 is not s4')\n",
    "\n",
    "if s1 is s5:\n",
    "    print('s1 is s5')\n",
    "else:\n",
    "    print('s1 is not s5')\n",
    "    "
   ]
  },
  {
   "cell_type": "code",
   "execution_count": null,
   "metadata": {},
   "outputs": [],
   "source": [
    "#문자열으 숫자로 바꾸는 함수\n",
    "\n",
    "def atoi(s):\n",
    "    i = 0\n",
    "    for x in s:\n",
    "        i = i*10 +ord(x)-ord('0')\n",
    "    return i"
   ]
  },
  {
   "cell_type": "code",
   "execution_count": null,
   "metadata": {},
   "outputs": [],
   "source": [
    "#숫자를 문자열로 바꾸는 함수\n",
    "#123을 '123'으로 바꾸기\n",
    "\n",
    "\n",
    "def itoa(a):\n",
    "    s=''\n",
    "    while a>0:\n",
    "        s += chr(ord('0') + a % 10) #일의 자리 숫자의 ascii 값 알아낸 것\n",
    "        a //= 10\n",
    "    return s[::-1]\n",
    "\n",
    "\n",
    "\n",
    "a = 123\n",
    "itoa(a)"
   ]
  },
  {
   "cell_type": "markdown",
   "metadata": {},
   "source": [
    "# 패턴 매칭\n",
    "기본에서는 그냥 소개하는 부분.\n",
    "\n",
    "# 고지식한 알고리즘(Brute force)\n",
    "- 본문 문자열을 처음부터 끝까지 차례대로 순회\n",
    "- 패턴 내의 문자들을 일일이 비교하는 방식으로 동작.\n",
    "\n",
    "if[i+j] != p[j]:\n",
    "    break\n",
    "\n",
    "\n",
    "\n",
    "# 교수님이 flag, for - else 구문이 있다고 간단하게 설명하는 것 말고 상세히 설명해주면 좋겠다..."
   ]
  },
  {
   "cell_type": "code",
   "execution_count": null,
   "metadata": {},
   "outputs": [],
   "source": [
    "#브루트 포스로 패턴 찾기\n",
    "\n",
    "p = 'is' #찾을 패턴\n",
    "t = 'This is a book~!' #전체 텍스트\n",
    "M = len(p) #찾을 패턴 길이\n",
    "N = len(t) #전체 텍스트의 길이\n",
    "\n",
    "\n",
    "def BruteForce(p, t):\n",
    "    i = 0 # t의 인덱스\n",
    "    j = 0 # p의 인덱스\n",
    "    while j < M and i <N:\n",
    "        if t[i] != p[j]: #불일치\n",
    "            i = i - j\n",
    "            j = -1\n",
    "        i = i + 1\n",
    "        j = j + 1\n",
    "    if j == M : return i - M #검색 성공\n",
    "\n",
    "\n",
    "    # for i    #텍스트의 시작 인덱스\n",
    "    #     for j  #패턴의 시작 인덱스\n",
    "    \n",
    "\n",
    "\n"
   ]
  },
  {
   "cell_type": "code",
   "execution_count": null,
   "metadata": {},
   "outputs": [],
   "source": [
    "# 1213\n",
    "\n",
    "# 위 브루트 포스는 첫번쨰 패턴 만족하는 텍스트의 첫번째 인덱스만 출력\n",
    "# 위 함수 고쳐서 풀어야 한다고 함.\n",
    "\n",
    "\n"
   ]
  },
  {
   "cell_type": "markdown",
   "metadata": {},
   "source": [
    "# 고지식한 패턴 검색 알고리즘의 시간 복잡도\n",
    "- 최악의 경우 시간 복잡도는 텍스트의 모든 위치 패턴 비교\n",
    "O(MN)이 됨.\n",
    "- 길이가 10000인 문자열, 길이 80인 패턴\n",
    "최악의 경우 800,000번\n",
    "\n",
    "\n",
    "# KMP\n",
    "- 불일치가 발생한 텍스트 스트링 앞 부분에 어떤 문자가 있는지 미리 알고\n",
    "불일치가 발생한 앞 부분에 대하여 다시 비교하지 않고 매칭 수행.\n",
    "- 패턴을 전처리하여 배열 next[M]\n",
    "\n",
    "# 보이어 무어 알고리즘\n",
    "- 오른쪽에서 왼쪽으로 비교\n",
    "- 대부분 상용 소프트웨어에서 채택하고 있는 알고리즘\n",
    "- 오른쪽 끝 문자가 불일치, 이문자가 패턴내에 전재하지 않는 경우, 이동거리는 패턴 길이\n",
    "\n",
    "- 실제 구현은 복잡해 방식만 소개.\n",
    "\n",
    "\n",
    "### 고지식한 방법은 구현 할 줄 알아야 한다.\n",
    "2중 for문, while문 둘다.\n",
    "\n",
    "\n",
    "\n",
    "# 회문 문제 접근 방법\n",
    "(1) 인덱스 연산 회문 가능한가?\n",
    "(2) 가로것만 해본다\n",
    "(3) 세로로 하는 건 열 우선순회 가능한가?"
   ]
  }
 ],
 "metadata": {
  "kernelspec": {
   "display_name": "Python 3",
   "language": "python",
   "name": "python3"
  },
  "language_info": {
   "codemirror_mode": {
    "name": "ipython",
    "version": 3
   },
   "file_extension": ".py",
   "mimetype": "text/x-python",
   "name": "python",
   "nbconvert_exporter": "python",
   "pygments_lexer": "ipython3",
   "version": "3.9.13"
  },
  "orig_nbformat": 4
 },
 "nbformat": 4,
 "nbformat_minor": 2
}
