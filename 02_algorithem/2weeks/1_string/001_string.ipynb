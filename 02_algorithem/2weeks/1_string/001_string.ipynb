{
 "cells": [
  {
   "cell_type": "markdown",
   "metadata": {},
   "source": [
    "문자열은 immutable하고 직접 수정이 불가하다.\n",
    "문자열을 고치고 싶으면 list에 올리고 처리해야한다.\n"
   ]
  },
  {
   "cell_type": "code",
   "execution_count": 2,
   "metadata": {},
   "outputs": [
    {
     "name": "stdout",
     "output_type": "stream",
     "text": [
      "esreveR\n"
     ]
    }
   ],
   "source": [
    "#문자열 뒤집기\n",
    "s = 'Reverse'\n",
    "s_list = list(s)\n",
    "n = len(s)\n",
    "for i in range(n//2):\n",
    "    s_list[i], s_list[n-1-i] = s_list[n-1-i], s_list[i]\n",
    "s= ''.join(s_list)\n",
    "print(s)\n"
   ]
  },
  {
   "cell_type": "code",
   "execution_count": 6,
   "metadata": {},
   "outputs": [
    {
     "name": "stdout",
     "output_type": "stream",
     "text": [
      "s1 is s4\n",
      "s1 is s4\n",
      "s1 is not s5\n"
     ]
    }
   ],
   "source": [
    "s1 = 'abc'\n",
    "s2 = 'abc'\n",
    "s3 = 'def'\n",
    "s4 = s1\n",
    "s5 = s1[:2] + 'c'\n",
    "\n",
    "#s3 빼고 전부 다 s1과 == 같다\n",
    "## is 만 비교하면되는데\n",
    "\n",
    "if s1 is s2:\n",
    "    print('s1 is s4')\n",
    "else:\n",
    "    print('s1 is not s4')\n",
    "\n",
    "if s1 is s4:\n",
    "    print('s1 is s4')\n",
    "else:\n",
    "    print('s1 is not s4')\n",
    "\n",
    "if s1 is s5:\n",
    "    print('s1 is s5')\n",
    "else:\n",
    "    print('s1 is not s5')\n",
    "    "
   ]
  },
  {
   "cell_type": "code",
   "execution_count": null,
   "metadata": {},
   "outputs": [],
   "source": [
    "#문자열으 숫자로 바꾸는 함수\n",
    "\n",
    "def atoi(s):\n",
    "    i = 0\n",
    "    for x in s:\n",
    "        i = i*10 +ord(x)-ord('0')\n",
    "    return i"
   ]
  },
  {
   "cell_type": "code",
   "execution_count": null,
   "metadata": {},
   "outputs": [],
   "source": [
    "#숫자를 문자열로 바꾸는 함수\n",
    "#123을 '123'으로 바꾸기\n",
    "\n",
    "\n",
    "def itoa(a):\n",
    "    s=''\n",
    "    while a>0:\n",
    "        s += chr(ord('0') + a % 10) #일의 자리 숫자의 ascii 값 알아낸 것\n",
    "        a //= 10\n",
    "    return s[::-1]\n",
    "\n",
    "\n",
    "\n",
    "a = 123\n",
    "itoa(a)"
   ]
  }
 ],
 "metadata": {
  "kernelspec": {
   "display_name": "Python 3",
   "language": "python",
   "name": "python3"
  },
  "language_info": {
   "codemirror_mode": {
    "name": "ipython",
    "version": 3
   },
   "file_extension": ".py",
   "mimetype": "text/x-python",
   "name": "python",
   "nbconvert_exporter": "python",
   "pygments_lexer": "ipython3",
   "version": "3.9.13"
  },
  "orig_nbformat": 4
 },
 "nbformat": 4,
 "nbformat_minor": 2
}
