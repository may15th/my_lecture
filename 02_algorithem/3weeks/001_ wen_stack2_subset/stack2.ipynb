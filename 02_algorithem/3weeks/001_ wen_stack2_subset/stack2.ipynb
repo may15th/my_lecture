{
 "cells": [
  {
   "cell_type": "markdown",
   "metadata": {},
   "source": [
    "부분 집합의 합\n",
    "f(i, n)    #: 현재 단계, N 목표\n",
    "  if i = N\n",
    "    return\n",
    "  else\n",
    "    f(i+1, N)\n",
    "\n",
    "return 하면 자기 호출한 위치로 되돌아감\n",
    "\n"
   ]
  },
  {
   "cell_type": "markdown",
   "metadata": {},
   "source": []
  },
  {
   "cell_type": "markdown",
   "metadata": {},
   "source": []
  },
  {
   "cell_type": "markdown",
   "metadata": {},
   "source": []
  },
  {
   "cell_type": "code",
   "execution_count": 1,
   "metadata": {},
   "outputs": [
    {
     "name": "stdout",
     "output_type": "stream",
     "text": [
      "[1, 2, 3]\n"
     ]
    }
   ],
   "source": [
    "def f(i,N):\n",
    "    if i == N:\n",
    "        return\n",
    "    else:\n",
    "        B[i] = A[i]\n",
    "        f(i+1, N)\n",
    "        return\n",
    "    \n",
    "# 글로벌 없는데, 배열은 글로벌 없어도 할 수 있다?\n",
    "\n",
    "N = 3\n",
    "A = [1,2,3]\n",
    "B = [0] * N\n",
    "f(0, N)\n",
    "print(B)"
   ]
  },
  {
   "cell_type": "markdown",
   "metadata": {},
   "source": []
  },
  {
   "cell_type": "code",
   "execution_count": null,
   "metadata": {},
   "outputs": [],
   "source": [
    "def f(i, N):\n",
    "    if i == N:\n",
    "        print(bit, end = ' ')\n",
    "        for j in range(N):\n",
    "            if bit[j]:\n",
    "                print(A[j], end = ' ')\n",
    "        print()\n",
    "        return\n",
    "    else:\n",
    "        bit[i] = 1\n",
    "        f(i+1, N)\n",
    "        bit[i] = 0\n",
    "        f(i+1, N)\n",
    "        return\n",
    "\n",
    "A = [1,2,3]\n",
    "bit = [0] * 3\n"
   ]
  },
  {
   "cell_type": "code",
   "execution_count": null,
   "metadata": {},
   "outputs": [],
   "source": [
    "# subset_recur\n",
    "def f(i, N):\n",
    "    if i == N:\n",
    "        print(bit, end = ' ')\n",
    "        for j in range(N):\n",
    "            if bit[j]:\n",
    "                s += A[j]\n",
    "                print(A[j], end = ' ')\n",
    "        print(f': {s}')\n",
    "        return\n",
    "    else:\n",
    "        bit[i] = 1\n",
    "        f(i+1, N)\n",
    "        bit[i] = 0\n",
    "        f(i+1, N)\n",
    "        return\n",
    "\n",
    "A = [1,2,3]"
   ]
  },
  {
   "cell_type": "code",
   "execution_count": null,
   "metadata": {},
   "outputs": [],
   "source": [
    "# subset_recur2\n",
    "def f(i, N):\n",
    "    if i == N:\n",
    "        print(bit, end = ' ')\n",
    "        for j in range(N):\n",
    "            if bit[j]:\n",
    "                s += A[j]\n",
    "                print(A[j], end = ' ')\n",
    "        print(f': {s}')\n",
    "        return\n",
    "    else:\n",
    "        bit[i] = 1              # 부분집합에 A[i] 포함\n",
    "        f(i+1, N, s+A[i])\n",
    "        return\n",
    "\n",
    "A = [1,2,3]"
   ]
  },
  {
   "cell_type": "markdown",
   "metadata": {},
   "source": []
  }
 ],
 "metadata": {
  "kernelspec": {
   "display_name": "Python 3",
   "language": "python",
   "name": "python3"
  },
  "language_info": {
   "codemirror_mode": {
    "name": "ipython",
    "version": 3
   },
   "file_extension": ".py",
   "mimetype": "text/x-python",
   "name": "python",
   "nbconvert_exporter": "python",
   "pygments_lexer": "ipython3",
   "version": "3.9.13"
  },
  "orig_nbformat": 4
 },
 "nbformat": 4,
 "nbformat_minor": 2
}
