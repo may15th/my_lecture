{
 "cells": [
  {
   "cell_type": "markdown",
   "metadata": {},
   "source": []
  },
  {
   "cell_type": "markdown",
   "metadata": {},
   "source": []
  },
  {
   "cell_type": "markdown",
   "metadata": {},
   "source": []
  },
  {
   "cell_type": "code",
   "execution_count": null,
   "metadata": {},
   "outputs": [],
   "source": [
    "stack = [0] * 100\n",
    "top = -1\n",
    "susik = '6528-*2/+'\n",
    "for x in susik:\n",
    "    if x not in '+-/*': #피연산자이면\n",
    "        top += 1# push(x)\n",
    "        stack[top] = int(x)\n",
    "\n",
    "\n",
    "    else:\n",
    "            op2 = stack[top] #pop()\n",
    "            top -= 1\n",
    "            op1 = stack[top] #pop()\n",
    "            top -= 1\n",
    "\n",
    "\n",
    "        if x == '+':\n",
    "            \n",
    "            top += 1\n",
    "            stack[top] = op1 + op2\n",
    "\n",
    "        elif x == '-':\n",
    "            top += 1\n",
    "            stack[top] = op1 + op2\n",
    "            \n",
    "        elif x == '/':\n",
    "\n",
    "        elif x == '*':\n",
    "        "
   ]
  },
  {
   "cell_type": "code",
   "execution_count": null,
   "metadata": {},
   "outputs": [],
   "source": [
    "stack = [0] * 100\n",
    "top = -1\n",
    "icp = {'(':3, '*':2, '/':2, '+':1, '-':1}\n",
    "isp = {'(':0, '*':2, '/':2, '+':1, '-':1}\n",
    "\n",
    "fx = '((6+5)*(2-8)/2)'\n",
    "for x in fx:\n",
    "    if x in '(+-*/)':    \n",
    "        if top == -1 or isp[stack[top]] < icp[x]: #토큰의 우선순위가 더 높으면\n",
    "            top +=1 #push\n",
    "            stack[top] = x\n"
   ]
  },
  {
   "cell_type": "code",
   "execution_count": null,
   "metadata": {},
   "outputs": [],
   "source": []
  },
  {
   "cell_type": "markdown",
   "metadata": {},
   "source": [
    "백트래킹(backtracking)\n",
    "해를 찾는 도중에 막히면 (즉, 해가 아니면)\n",
    "되돌아가서 다시 해를 찾아 가는 기법\n",
    "\n",
    "백트래킹 기법은 최적화(optimization) 문제와 결정 문제(decision)를 해결\n",
    "\n",
    "결정 문제\n",
    "문제의 조건을 만족하는 해가 존재하는지 여부를 yes or no가 답하는 문제\n",
    "- 미로 찾기\n",
    "- n-QUEEN 문제\n",
    "- Map coloring\n",
    "- 부분집함의 합(subset sum) 문제 등\n",
    "\n"
   ]
  },
  {
   "cell_type": "markdown",
   "metadata": {},
   "source": [
    "# 김구현 교수님 강의\n",
    "\n",
    "- 후위표기법 쓸려면 트리 개념을 애해해야함.\n",
    "\n",
    "- 스택의 기본 개념 알 수 있는 좋은 사례라 소개한 것.\n",
    "- 후위표기법 트리할 때 다시할 것.\n",
    "\n",
    "- 지금 집중할 건 스택에 집중할 것.\n",
    "- 후입선출 생각할 것.\n",
    "\n",
    "\n",
    "연습문제 1 잘못됐음\n"
   ]
  }
 ],
 "metadata": {
  "language_info": {
   "name": "python"
  },
  "orig_nbformat": 4
 },
 "nbformat": 4,
 "nbformat_minor": 2
}
