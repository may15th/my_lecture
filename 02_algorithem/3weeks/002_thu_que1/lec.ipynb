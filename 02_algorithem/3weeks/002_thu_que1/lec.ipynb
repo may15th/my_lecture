{
 "cells": [
  {
   "cell_type": "code",
   "execution_count": null,
   "metadata": {},
   "outputs": [],
   "source": [
    "# 큐의 선입선출 구조\n",
    " \n",
    "큐의 기본 연산\n",
    "삽입 = enQueue\n",
    "삭제 = deQueue\n",
    "\n",
    "1) 공백 큐 생성 : created Queue();\n",
    "\n",
    "2) 원소 A삽입 : enQueue(A);\n",
    "\n",
    "3_ 원소 B삽입 : 두"
   ]
  },
  {
   "cell_type": "code",
   "execution_count": null,
   "metadata": {},
   "outputs": [],
   "source": [
    "def enQ(data):\n",
    "    glboal Rear\n",
    "    if rear = Qsize-1:\n",
    "        print('Q is Full')\n",
    "\n",
    "\n",
    "def deQ():\n",
    "    global fro\n",
    "\n",
    "Qsize = 3\n",
    "Q "
   ]
  },
  {
   "cell_type": "markdown",
   "metadata": {},
   "source": [
    "잘못된 포화상태 인식\n",
    "선형 큐를 이용하여 원소의 삽입과 삭제를 계속할 경우, 배열의 앞부분에 활용할 수 있는 공간이 있음에도, 불구하고, rear=n=1인 상태 즉, 포화상태로 인식하여 더 이상의 삽입을 수행하지 않게 돔\n",
    "\n"
   ]
  },
  {
   "cell_type": "markdown",
   "metadata": {},
   "source": [
    "해결방법2\n",
    " - 1차원 배열을 사용하되, 논리적으로는 배열의 처음과 끝이 연결되어 원형 형태의 큐를 이룬다고 가정하고 사용\n",
    "\n",
    "워형 큐의 구조\n",
    "- front = rear = 0\n",
    "\n",
    "## index의 순환\n",
    "- front와 rear의 위치기ㅏ 배여르이 마지막 인덱스인 n-1을 가리킨 후, 그 다음에는 논리적 순환을\n",
    "이루어 배열의 처음 인덱스인 0으로 이동해야 함\n",
    "- 이를 위해 나머지 연산자 mod를 사용함\n",
    "\n",
    "## front변수\n",
    "- 공백 상태와 포화 상태 구분을 쉽게 하기 위해 front가 있는 자리는 사용하지 않고 항상\n",
    "빈자리로 둠\n",
    "\n",
    "## 공백상태 및 포화상태 검사: isEmpty(), isFull()\n",
    "- 공백상태 : fornt == rear\n",
    "- 포화상태 : 삽입할 rear의 다음 위치 == 현재 front\n",
    " - (rear + 1) mod n == fron\n",
    "\n",
    " def isEmpty() :\n",
    "      return front == rear\n",
    "\n",
    " def isJull() :\n",
    "      return (rear+1) % len(cQ) == front\n",
    "\n",
    "\n"
   ]
  }
 ],
 "metadata": {
  "language_info": {
   "name": "python"
  },
  "orig_nbformat": 4
 },
 "nbformat": 4,
 "nbformat_minor": 2
}
