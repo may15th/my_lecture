{
 "cells": [
  {
   "cell_type": "code",
   "execution_count": null,
   "metadata": {},
   "outputs": [],
   "source": [
    "\n"
   ]
  },
  {
   "cell_type": "markdown",
   "metadata": {},
   "source": [
    "# bfs\n",
    "\n",
    "- 시작점 인근 미로 같은 모양이었다면 주변 칸들을 보면돼.\n",
    "a, bcd, ef, ghi\n",
    "  ef    b에 인접\n",
    "    c는 인접 없고 d의 인접 ghi\n",
    "\n",
    "\n",
    "그래프 정보는 마지막 정점 번호 등\n"
   ]
  }
 ],
 "metadata": {
  "language_info": {
   "name": "python"
  },
  "orig_nbformat": 4
 },
 "nbformat": 4,
 "nbformat_minor": 2
}
