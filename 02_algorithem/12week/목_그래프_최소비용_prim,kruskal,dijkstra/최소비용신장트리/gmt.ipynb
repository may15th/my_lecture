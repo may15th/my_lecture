{
 "cells": [
  {
   "cell_type": "markdown",
   "metadata": {},
   "source": [
    "1. 그래프 최소비용 문제\n",
    " -  모든 정점을 연결하는 간선들의 가중치의 합이 최소가 되는 트리 - mst\n",
    " -  두 정점 사이의 최소 비용 경로 찾기 - 다익스트라\n",
    "\n",
    "2. 신장 트리\n",
    " - n개의 정점으로 이루어진 무방향 그래프에서 n개의 정점과n-1개의 간선으로 이루어진 트리\n",
    " - 모든 정점을 연결\n",
    " - 사이클이 존재하지 않는 부분 그래프\n",
    "  - 간선의 개수: N-1개\n",
    " -  한 그래프에서 여러 개의 신장 트리가 나올 수 있음.(코드에서 참고를 해야함.)\n",
    "\n",
    "3. 최소 신장 트리(Minimum Spanning Tree)\n",
    " - 무방향 가중치 그래프에서 신장 트리를 구성하는 간선들의 가중치의 합이 최소인 신장 트리\n",
    "\n",
    "도로 건설 계획\n",
    "총 N개의 도시를 연결하는 도로를 건설하려고 할 때\n",
    "모든 도시에 갈 수 있도록 하며, 가장 비용이 적게 들도록\n",
    "도로를 건설하는 경우의 수\n",
    "\n",
    "1. 갈수 있는 곳들 중 제일 짧은 곳 가자.\n",
    " - 모든 정점 방문하면 종료. (그리디 알고리즘, bfs알고), 우선순위 queue??\n",
    "\n",
    "2. 전체 간선들 중에서 제일 가중치가 적은 곳부터 선택하자.\n",
    " -  간선 정보 정렬\n",
    "\n",
    "\n"
   ]
  },
  {
   "cell_type": "markdown",
   "metadata": {},
   "source": [
    "1. Prim 알고리즘\n",
    " - 하나의 정점에서 연결된 간선들 중에 하나씩 선택하면서 MST를 만들어가는 방식\n",
    " 1) 임의 정점 하나 선택해서 시작\n",
    " 2) 선택한 정점과 인접하는 장점들 중 최소 비용의 간선이 존재하는 정점 선택\n",
    " 3) 모든 정점 선택될 떄까지 1) 2) 과정 반복\n",
    " \n",
    "\n",
    " - 서로소인 2개의 집합(2 disjoint-sets)정보를 유지\n",
    "  - 트리 정점들(tree veritces) - MST를 만들기 위해 선택된 정점들\n",
    "  - 비트리 정점들(nontree - )"
   ]
  },
  {
   "cell_type": "code",
   "execution_count": 4,
   "metadata": {},
   "outputs": [
    {
     "ename": "AttributeError",
     "evalue": "module 'heapq' has no attribute 'heappuh'",
     "output_type": "error",
     "traceback": [
      "\u001b[1;31m---------------------------------------------------------------------------\u001b[0m",
      "\u001b[1;31mAttributeError\u001b[0m                            Traceback (most recent call last)",
      "\u001b[1;32mc:\\Users\\SSAFY\\Desktop\\my_lecture\\02_algorithem\\12week\\최소비용신장트리\\gmt.ipynb Cell 3\u001b[0m line \u001b[0;36m2\n\u001b[0;32m     <a href='vscode-notebook-cell:/c%3A/Users/SSAFY/Desktop/my_lecture/02_algorithem/12week/%EC%B5%9C%EC%86%8C%EB%B9%84%EC%9A%A9%EC%8B%A0%EC%9E%A5%ED%8A%B8%EB%A6%AC/gmt.ipynb#W5sZmlsZQ%3D%3D?line=24'>25</a>\u001b[0m     \u001b[39mprint\u001b[39m(heapq\u001b[39m.\u001b[39mheappop(heap))\n\u001b[0;32m     <a href='vscode-notebook-cell:/c%3A/Users/SSAFY/Desktop/my_lecture/02_algorithem/12week/%EC%B5%9C%EC%86%8C%EB%B9%84%EC%9A%A9%EC%8B%A0%EC%9E%A5%ED%8A%B8%EB%A6%AC/gmt.ipynb#W5sZmlsZQ%3D%3D?line=25'>26</a>\u001b[0m     \u001b[39mprint\u001b[39m(heapq\u001b[39m.\u001b[39mheappop(heap))\n\u001b[1;32m---> <a href='vscode-notebook-cell:/c%3A/Users/SSAFY/Desktop/my_lecture/02_algorithem/12week/%EC%B5%9C%EC%86%8C%EB%B9%84%EC%9A%A9%EC%8B%A0%EC%9E%A5%ED%8A%B8%EB%A6%AC/gmt.ipynb#W5sZmlsZQ%3D%3D?line=27'>28</a>\u001b[0m prim(\u001b[39m0\u001b[39;49m)\n\u001b[0;32m     <a href='vscode-notebook-cell:/c%3A/Users/SSAFY/Desktop/my_lecture/02_algorithem/12week/%EC%B5%9C%EC%86%8C%EB%B9%84%EC%9A%A9%EC%8B%A0%EC%9E%A5%ED%8A%B8%EB%A6%AC/gmt.ipynb#W5sZmlsZQ%3D%3D?line=29'>30</a>\u001b[0m V, E \u001b[39m=\u001b[39m \u001b[39mmap\u001b[39m(\u001b[39mint\u001b[39m, \u001b[39minput\u001b[39m()\u001b[39m.\u001b[39msplit())\n\u001b[0;32m     <a href='vscode-notebook-cell:/c%3A/Users/SSAFY/Desktop/my_lecture/02_algorithem/12week/%EC%B5%9C%EC%86%8C%EB%B9%84%EC%9A%A9%EC%8B%A0%EC%9E%A5%ED%8A%B8%EB%A6%AC/gmt.ipynb#W5sZmlsZQ%3D%3D?line=31'>32</a>\u001b[0m \u001b[39m# 인접 행렬 방식\u001b[39;00m\n",
      "\u001b[1;32mc:\\Users\\SSAFY\\Desktop\\my_lecture\\02_algorithem\\12week\\최소비용신장트리\\gmt.ipynb Cell 3\u001b[0m line \u001b[0;36m2\n\u001b[0;32m     <a href='vscode-notebook-cell:/c%3A/Users/SSAFY/Desktop/my_lecture/02_algorithem/12week/%EC%B5%9C%EC%86%8C%EB%B9%84%EC%9A%A9%EC%8B%A0%EC%9E%A5%ED%8A%B8%EB%A6%AC/gmt.ipynb#W5sZmlsZQ%3D%3D?line=17'>18</a>\u001b[0m \u001b[39mdef\u001b[39;00m \u001b[39mprim\u001b[39m(start):\n\u001b[0;32m     <a href='vscode-notebook-cell:/c%3A/Users/SSAFY/Desktop/my_lecture/02_algorithem/12week/%EC%B5%9C%EC%86%8C%EB%B9%84%EC%9A%A9%EC%8B%A0%EC%9E%A5%ED%8A%B8%EB%A6%AC/gmt.ipynb#W5sZmlsZQ%3D%3D?line=18'>19</a>\u001b[0m     heap \u001b[39m=\u001b[39m []\n\u001b[1;32m---> <a href='vscode-notebook-cell:/c%3A/Users/SSAFY/Desktop/my_lecture/02_algorithem/12week/%EC%B5%9C%EC%86%8C%EB%B9%84%EC%9A%A9%EC%8B%A0%EC%9E%A5%ED%8A%B8%EB%A6%AC/gmt.ipynb#W5sZmlsZQ%3D%3D?line=19'>20</a>\u001b[0m     heapq\u001b[39m.\u001b[39;49mheappuh(heap,\u001b[39m3\u001b[39m)\n\u001b[0;32m     <a href='vscode-notebook-cell:/c%3A/Users/SSAFY/Desktop/my_lecture/02_algorithem/12week/%EC%B5%9C%EC%86%8C%EB%B9%84%EC%9A%A9%EC%8B%A0%EC%9E%A5%ED%8A%B8%EB%A6%AC/gmt.ipynb#W5sZmlsZQ%3D%3D?line=20'>21</a>\u001b[0m     heapq\u001b[39m.\u001b[39mheappuh(heap,\u001b[39m1\u001b[39m)\n\u001b[0;32m     <a href='vscode-notebook-cell:/c%3A/Users/SSAFY/Desktop/my_lecture/02_algorithem/12week/%EC%B5%9C%EC%86%8C%EB%B9%84%EC%9A%A9%EC%8B%A0%EC%9E%A5%ED%8A%B8%EB%A6%AC/gmt.ipynb#W5sZmlsZQ%3D%3D?line=21'>22</a>\u001b[0m     heapq\u001b[39m.\u001b[39mheappuh(heap,\u001b[39m2\u001b[39m)\n",
      "\u001b[1;31mAttributeError\u001b[0m: module 'heapq' has no attribute 'heappuh'"
     ]
    }
   ],
   "source": [
    "# prim 알고리즘\n",
    "'''\n",
    "7 11\n",
    "0 1 32\n",
    "0 2 31\n",
    "0 5 60\n",
    "0 6 51\n",
    "1 2 21\n",
    "2 4 46\n",
    "2 6 25\n",
    "3 4 34\n",
    "3 5 18\n",
    "4 5 40\n",
    "4 6 51\n",
    "'''\n",
    "import heapq # 실제 코딩테스트에서는 이 힙 라이브러리 사용할 것\n",
    "\n",
    "def prim(start):\n",
    "    heap = []\n",
    "    heapq.heappuh(heap,3)\n",
    "    heapq.heappuh(heap,1)\n",
    "    heapq.heappuh(heap,2)\n",
    "\n",
    "    print(heapq.heappop(heap))\n",
    "    print(heapq.heappop(heap))\n",
    "    print(heapq.heappop(heap))\n",
    "    \n",
    "prim(0)\n",
    "\n",
    "V, E = map(int, input().split())\n",
    "\n",
    "# 인접 행렬 방식\n",
    "graph = [[0] * V for _ in range(V)]\n",
    "\n",
    "for _ in range(E):\n",
    "    f, t, w = map(int, input().split())\n",
    "    graph[f][t] = w\n",
    "    graph[t][f] = w # 무방향 그래프\n",
    "\n",
    "\n",
    "\n",
    "\n"
   ]
  },
  {
   "cell_type": "markdown",
   "metadata": {},
   "source": [
    "2. kruskal 알고리즘\n",
    " - 간선을 하나씩 선택해서 MST를 찾는 알고리즘\n",
    " 1) 최초, 모든 간선을 가중치에 따라 오름차순 정렬\n",
    " 2) 전체 간선들 보고 제일 적은 것들 순서로 정렬 => 기존방문 여부 고려\n",
    " 그리디 알고리즘 일종\n",
    " "
   ]
  },
  {
   "cell_type": "markdown",
   "metadata": {},
   "source": [
    "- 최단 경로 정의\n",
    " - 간선의 가중치가 있는 그래프에서 두 정점 사이의 경로들 중에 간선들 가중치의 합이 최소인 경로\n",
    "\n",
    "- 하나의 시작 정점에서 끝 정점까지의 최단 경로\n",
    " - 다익스트라(dijkstra) 알고리즘\n",
    "  - 음의 가중치를 허용하지 않음\n",
    "\n",
    "다익스트라가 문제 유형 많이 나온다고 함.\n",
    "\n",
    "- 모든 정점들에 대한 최단 경로\n",
    " - 플로이드-워샬(floyd-warshall) 알고리즘\n"
   ]
  },
  {
   "cell_type": "markdown",
   "metadata": {},
   "source": [
    "- 시작 정점에서 거리가 최소인 정점을 선택해 나가면서 최단 경로르 구하는 방식.\n",
    " - prim과의 차이점은 누적거리를 저장해나간다는 점이 다르다.\n",
    "\n",
    "\n",
    "\n",
    "- 탐욕 기법을 사용한 알고리즘으로 MST의 프림 알고리즘과 유사하다."
   ]
  },
  {
   "cell_type": "markdown",
   "metadata": {},
   "source": [
    "그래프\n",
    "\n",
    "그래프 탐색\n",
    "- 완전 탐색: dfs, bfs\n",
    "\n",
    "서로소 집합\n",
    "- 대표 데이터 비교\n",
    "- 그래프에서는 싸이클 판별\n",
    "\n",
    "최소비용\n",
    "1. MST 최소신장 트리\n",
    " - 전체 그래프에서 총합이 최소인 신장 트리\n",
    "  1) prim\n",
    "  2) kruskal\n",
    "  둘 중에 그냥 편한 것 쓰면 된다 함.\n",
    "  \n",
    "\n",
    "2. 최단 거리(다익스트라)\n",
    " -  정점 사이의 거리가 최단인 경로 찾기\n",
    "\n",
    " 반드시 스스로 그림 그리고\n",
    " 기본 코드 작성할 수있도록 숙지 이해+ 암기\n"
   ]
  },
  {
   "cell_type": "code",
   "execution_count": null,
   "metadata": {},
   "outputs": [],
   "source": []
  },
  {
   "cell_type": "code",
   "execution_count": null,
   "metadata": {},
   "outputs": [],
   "source": []
  }
 ],
 "metadata": {
  "kernelspec": {
   "display_name": "Python 3",
   "language": "python",
   "name": "python3"
  },
  "language_info": {
   "codemirror_mode": {
    "name": "ipython",
    "version": 3
   },
   "file_extension": ".py",
   "mimetype": "text/x-python",
   "name": "python",
   "nbconvert_exporter": "python",
   "pygments_lexer": "ipython3",
   "version": "3.9.13"
  },
  "orig_nbformat": 4
 },
 "nbformat": 4,
 "nbformat_minor": 2
}
