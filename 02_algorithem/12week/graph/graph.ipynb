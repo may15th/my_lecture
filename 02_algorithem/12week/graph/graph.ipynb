{
 "cells": [
  {
   "cell_type": "markdown",
   "metadata": {},
   "source": [
    "그래프\n",
    "- 연결관계를 갖는 비선형 자료구조\n",
    "- 데이터 간 관계를 표현한 자료구조\n",
    " - 관계? - 데이터 사이의 연관성\n"
   ]
  },
  {
   "cell_type": "code",
   "execution_count": 1,
   "metadata": {},
   "outputs": [
    {
     "name": "stderr",
     "output_type": "stream",
     "text": [
      "<>:6: SyntaxWarning: list indices must be integers or slices, not tuple; perhaps you missed a comma?\n",
      "<>:6: SyntaxWarning: list indices must be integers or slices, not tuple; perhaps you missed a comma?\n",
      "C:\\Users\\SSAFY\\AppData\\Local\\Temp\\ipykernel_2312\\1951009867.py:6: SyntaxWarning: list indices must be integers or slices, not tuple; perhaps you missed a comma?\n",
      "  [0,1,0,1,0]\n",
      "C:\\Users\\SSAFY\\AppData\\Local\\Temp\\ipykernel_2312\\1951009867.py:6: SyntaxWarning: list indices must be integers or slices, not tuple; perhaps you missed a comma?\n",
      "  [0,1,0,1,0]\n",
      "C:\\Users\\SSAFY\\AppData\\Local\\Temp\\ipykernel_2312\\1951009867.py:6: SyntaxWarning: list indices must be integers or slices, not tuple; perhaps you missed a comma?\n",
      "  [0,1,0,1,0]\n",
      "C:\\Users\\SSAFY\\AppData\\Local\\Temp\\ipykernel_2312\\1951009867.py:6: SyntaxWarning: list indices must be integers or slices, not tuple; perhaps you missed a comma?\n",
      "  [0,1,0,1,0]\n",
      "C:\\Users\\SSAFY\\AppData\\Local\\Temp\\ipykernel_2312\\1951009867.py:6: SyntaxWarning: list indices must be integers or slices, not tuple; perhaps you missed a comma?\n",
      "  [0,1,0,1,0]\n",
      "C:\\Users\\SSAFY\\AppData\\Local\\Temp\\ipykernel_2312\\1951009867.py:6: SyntaxWarning: list indices must be integers or slices, not tuple; perhaps you missed a comma?\n",
      "  [0,1,0,1,0]\n"
     ]
    },
    {
     "ename": "TypeError",
     "evalue": "list indices must be integers or slices, not tuple",
     "output_type": "error",
     "traceback": [
      "\u001b[1;31m---------------------------------------------------------------------------\u001b[0m",
      "\u001b[1;31mTypeError\u001b[0m                                 Traceback (most recent call last)",
      "\u001b[1;32mc:\\Users\\SSAFY\\Desktop\\my_lecture\\02_algorithem\\12week\\graph\\graph.ipynb Cell 2\u001b[0m line \u001b[0;36m6\n\u001b[0;32m      <a href='vscode-notebook-cell:/c%3A/Users/SSAFY/Desktop/my_lecture/02_algorithem/12week/graph/graph.ipynb#W0sZmlsZQ%3D%3D?line=0'>1</a>\u001b[0m \u001b[39m# 인접 행렬\u001b[39;00m\n\u001b[0;32m      <a href='vscode-notebook-cell:/c%3A/Users/SSAFY/Desktop/my_lecture/02_algorithem/12week/graph/graph.ipynb#W0sZmlsZQ%3D%3D?line=1'>2</a>\u001b[0m \u001b[39m# 갈 수 있다면 1 갈수 없다면 0을 모두 가짐.\u001b[39;00m\n\u001b[0;32m      <a href='vscode-notebook-cell:/c%3A/Users/SSAFY/Desktop/my_lecture/02_algorithem/12week/graph/graph.ipynb#W0sZmlsZQ%3D%3D?line=2'>3</a>\u001b[0m \u001b[39m# 장점 : 사용이 굉장히 편하다. 구현이 쉬움.\u001b[39;00m\n\u001b[0;32m      <a href='vscode-notebook-cell:/c%3A/Users/SSAFY/Desktop/my_lecture/02_algorithem/12week/graph/graph.ipynb#W0sZmlsZQ%3D%3D?line=3'>4</a>\u001b[0m \u001b[39m# 단점 : 메모리 낭비, 0도 표시를 하기 때문에\u001b[39;00m\n\u001b[0;32m      <a href='vscode-notebook-cell:/c%3A/Users/SSAFY/Desktop/my_lecture/02_algorithem/12week/graph/graph.ipynb#W0sZmlsZQ%3D%3D?line=4'>5</a>\u001b[0m arr \u001b[39m=\u001b[39m [\n\u001b[1;32m----> <a href='vscode-notebook-cell:/c%3A/Users/SSAFY/Desktop/my_lecture/02_algorithem/12week/graph/graph.ipynb#W0sZmlsZQ%3D%3D?line=5'>6</a>\u001b[0m     [\u001b[39m0\u001b[39;49m,\u001b[39m1\u001b[39;49m,\u001b[39m0\u001b[39;49m,\u001b[39m1\u001b[39;49m,\u001b[39m0\u001b[39;49m]\n\u001b[0;32m      <a href='vscode-notebook-cell:/c%3A/Users/SSAFY/Desktop/my_lecture/02_algorithem/12week/graph/graph.ipynb#W0sZmlsZQ%3D%3D?line=6'>7</a>\u001b[0m     [\u001b[39m1\u001b[39;49m,\u001b[39m0\u001b[39;49m,\u001b[39m1\u001b[39;49m,\u001b[39m1\u001b[39;49m,\u001b[39m1\u001b[39;49m]\n\u001b[0;32m      <a href='vscode-notebook-cell:/c%3A/Users/SSAFY/Desktop/my_lecture/02_algorithem/12week/graph/graph.ipynb#W0sZmlsZQ%3D%3D?line=7'>8</a>\u001b[0m     [\u001b[39m0\u001b[39m,\u001b[39m1\u001b[39m,\u001b[39m0\u001b[39m,\u001b[39m0\u001b[39m,\u001b[39m0\u001b[39m]\n\u001b[0;32m      <a href='vscode-notebook-cell:/c%3A/Users/SSAFY/Desktop/my_lecture/02_algorithem/12week/graph/graph.ipynb#W0sZmlsZQ%3D%3D?line=8'>9</a>\u001b[0m     [\u001b[39m1\u001b[39m,\u001b[39m1\u001b[39m,\u001b[39m0\u001b[39m,\u001b[39m0\u001b[39m,\u001b[39m1\u001b[39m]\n\u001b[0;32m     <a href='vscode-notebook-cell:/c%3A/Users/SSAFY/Desktop/my_lecture/02_algorithem/12week/graph/graph.ipynb#W0sZmlsZQ%3D%3D?line=9'>10</a>\u001b[0m     [\u001b[39m0\u001b[39m,\u001b[39m1\u001b[39m,\u001b[39m0\u001b[39m,\u001b[39m1\u001b[39m,\u001b[39m0\u001b[39m]\n\u001b[0;32m     <a href='vscode-notebook-cell:/c%3A/Users/SSAFY/Desktop/my_lecture/02_algorithem/12week/graph/graph.ipynb#W0sZmlsZQ%3D%3D?line=10'>11</a>\u001b[0m     ]\n\u001b[0;32m     <a href='vscode-notebook-cell:/c%3A/Users/SSAFY/Desktop/my_lecture/02_algorithem/12week/graph/graph.ipynb#W0sZmlsZQ%3D%3D?line=12'>13</a>\u001b[0m arr[\u001b[39m0\u001b[39m,\u001b[39m1\u001b[39m]\n\u001b[0;32m     <a href='vscode-notebook-cell:/c%3A/Users/SSAFY/Desktop/my_lecture/02_algorithem/12week/graph/graph.ipynb#W0sZmlsZQ%3D%3D?line=14'>15</a>\u001b[0m \u001b[39m# DFS\u001b[39;00m\n\u001b[0;32m     <a href='vscode-notebook-cell:/c%3A/Users/SSAFY/Desktop/my_lecture/02_algorithem/12week/graph/graph.ipynb#W0sZmlsZQ%3D%3D?line=15'>16</a>\u001b[0m \u001b[39m# STACK 버전\u001b[39;00m\n",
      "\u001b[1;31mTypeError\u001b[0m: list indices must be integers or slices, not tuple"
     ]
    }
   ],
   "source": [
    "# 인접 행렬\n",
    "# 갈 수 있다면 1 갈수 없다면 0을 모두 가짐.\n",
    "# 장점 : 사용이 굉장히 편하다. 구현이 쉬움.\n",
    "# 단점 : 메모리 낭비, 0도 표시를 하기 때문에\n",
    "# 아래는 큰 숫자부터 방문 dfs... 인데,....  오류가 뜬다 \n",
    "arr = [\n",
    "    [0,1,0,1,0]\n",
    "    [1,0,1,1,1]\n",
    "    [0,1,0,0,0]\n",
    "    [1,1,0,0,1]\n",
    "    [0,1,0,1,0]\n",
    "    ]\n",
    "\n",
    "arr[0,1]\n",
    "\n",
    "# DFS\n",
    "# STACK 버전\n",
    "def dfs_stack(start):\n",
    "    visited = []\n",
    "    stack = [start]\n",
    "\n",
    "    while stack:\n",
    "        now = stack.pop()\n",
    "        # 이미 방문한 지점이라면 continue\n",
    "        if now in visited:\n",
    "            continue\n",
    "\n",
    "        # 방문하지 않은 지점이라면, 방문 표시\n",
    "        visited.append(now)\n",
    "\n",
    "        # 갈 수 있는 곳들을 stack에 추가\n",
    "        for next in range(5):\n",
    "            # 연결이 안되어 있다면 continue\n",
    "            if graph[now][next] == 0:\n",
    "                continue\n",
    "            \n",
    "# 백트래킹 등으로 들어갈 때 조건이 많을 때 반복이나 재귀만들 때 할 수 없는 경우를 \n",
    "# pass 조건은 continue로 넣는다. -> 확실히 이 방법이 다른 문제들에서도 자주 사용.\n",
    "# !!!!꿀팁이다 꼭 기억하고 활용하자!!!\n",
    "# 일종의 가지치기로 쓰는 것!\n",
    "            # 방문한 지점이라면 stack에 추가하지 않음\n",
    "            if next in visited:\n",
    "                continue\n",
    "\n",
    "            stack.append(next)\n",
    "    # 출력을 위한 반환\n",
    "    return visited\n",
    "\n",
    "print(\"dfs_stack = \", end='')\n",
    "print(*dfs_stack(0))\n"
   ]
  },
  {
   "cell_type": "code",
   "execution_count": null,
   "metadata": {},
   "outputs": [],
   "source": [
    "#dfs를 이용한 stack(작은번호 부터 출력)\n",
    "arr = [\n",
    "    [0,1,0,1,0]\n",
    "    [1,0,1,1,1]\n",
    "    [0,1,0,0,0]\n",
    "    [1,1,0,0,1]\n",
    "    [0,1,0,1,0]\n",
    "    ]\n",
    "\n",
    "arr[0][1]\n",
    "\n",
    "# DFS\n",
    "# STACK 버전\n",
    "def dfs_stack(start):\n",
    "    visited = []\n",
    "    stack = [start]\n",
    "\n",
    "    while stack:\n",
    "        now = stack.pop()\n",
    "        # 이미 방문한 지점이라면 continue\n",
    "        if now in visited:\n",
    "            continue\n",
    "\n",
    "        # 방문하지 않은 지점이라면, 방문 표시\n",
    "        visited.append(now)\n",
    "\n",
    "        # for next in range(5)\n",
    "        # 작은 번호부터 조회\n",
    "        for next in range(4,-1,-1):\n",
    "            if graph[now][next] == 0:\n",
    "                continue\n",
    "\n",
    "            if next in visited:\n",
    "                continue\n",
    "\n",
    "            stack.append(next)\n",
    "    return visited\n",
    "\n",
    "print(\"dfs_stack = \", end='')\n",
    "print(*dfs_stack(0))"
   ]
  },
  {
   "cell_type": "code",
   "execution_count": 4,
   "metadata": {},
   "outputs": [
    {
     "name": "stdout",
     "output_type": "stream",
     "text": [
      "dfs 재귀 = 0 "
     ]
    },
    {
     "ename": "NameError",
     "evalue": "name 'graph' is not defined",
     "output_type": "error",
     "traceback": [
      "\u001b[1;31m---------------------------------------------------------------------------\u001b[0m",
      "\u001b[1;31mNameError\u001b[0m                                 Traceback (most recent call last)",
      "\u001b[1;32mc:\\Users\\SSAFY\\Desktop\\my_lecture\\02_algorithem\\12week\\graph\\graph.ipynb Cell 4\u001b[0m line \u001b[0;36m2\n\u001b[0;32m     <a href='vscode-notebook-cell:/c%3A/Users/SSAFY/Desktop/my_lecture/02_algorithem/12week/graph/graph.ipynb#W3sZmlsZQ%3D%3D?line=18'>19</a>\u001b[0m         dfs(\u001b[39mnext\u001b[39m)\n\u001b[0;32m     <a href='vscode-notebook-cell:/c%3A/Users/SSAFY/Desktop/my_lecture/02_algorithem/12week/graph/graph.ipynb#W3sZmlsZQ%3D%3D?line=21'>22</a>\u001b[0m \u001b[39mprint\u001b[39m(\u001b[39m'\u001b[39m\u001b[39mdfs 재귀 =\u001b[39m\u001b[39m'\u001b[39m, end \u001b[39m=\u001b[39m \u001b[39m'\u001b[39m\u001b[39m \u001b[39m\u001b[39m'\u001b[39m)\n\u001b[1;32m---> <a href='vscode-notebook-cell:/c%3A/Users/SSAFY/Desktop/my_lecture/02_algorithem/12week/graph/graph.ipynb#W3sZmlsZQ%3D%3D?line=22'>23</a>\u001b[0m dfs(\u001b[39m0\u001b[39;49m)\n\u001b[0;32m     <a href='vscode-notebook-cell:/c%3A/Users/SSAFY/Desktop/my_lecture/02_algorithem/12week/graph/graph.ipynb#W3sZmlsZQ%3D%3D?line=24'>25</a>\u001b[0m     \u001b[39m# *************재귀 방법 순서*******************\u001b[39;00m\n\u001b[0;32m     <a href='vscode-notebook-cell:/c%3A/Users/SSAFY/Desktop/my_lecture/02_algorithem/12week/graph/graph.ipynb#W3sZmlsZQ%3D%3D?line=25'>26</a>\u001b[0m     \u001b[39m# 1. 기저 조건\u001b[39;00m\n\u001b[0;32m     <a href='vscode-notebook-cell:/c%3A/Users/SSAFY/Desktop/my_lecture/02_algorithem/12week/graph/graph.ipynb#W3sZmlsZQ%3D%3D?line=26'>27</a>\u001b[0m     \u001b[39m# 2. 들어가기 전\u001b[39;00m\n\u001b[0;32m     <a href='vscode-notebook-cell:/c%3A/Users/SSAFY/Desktop/my_lecture/02_algorithem/12week/graph/graph.ipynb#W3sZmlsZQ%3D%3D?line=27'>28</a>\u001b[0m     \u001b[39m# 3. 함수 호출\u001b[39;00m\n\u001b[0;32m     <a href='vscode-notebook-cell:/c%3A/Users/SSAFY/Desktop/my_lecture/02_algorithem/12week/graph/graph.ipynb#W3sZmlsZQ%3D%3D?line=28'>29</a>\u001b[0m     \u001b[39m# 4. 돌아와서 무엇을 하나.\u001b[39;00m\n",
      "\u001b[1;32mc:\\Users\\SSAFY\\Desktop\\my_lecture\\02_algorithem\\12week\\graph\\graph.ipynb Cell 4\u001b[0m line \u001b[0;36m1\n\u001b[0;32m     <a href='vscode-notebook-cell:/c%3A/Users/SSAFY/Desktop/my_lecture/02_algorithem/12week/graph/graph.ipynb#W3sZmlsZQ%3D%3D?line=9'>10</a>\u001b[0m \u001b[39m# 인접한 노드들을 방문\u001b[39;00m\n\u001b[0;32m     <a href='vscode-notebook-cell:/c%3A/Users/SSAFY/Desktop/my_lecture/02_algorithem/12week/graph/graph.ipynb#W3sZmlsZQ%3D%3D?line=10'>11</a>\u001b[0m \u001b[39mfor\u001b[39;00m \u001b[39mnext\u001b[39m \u001b[39min\u001b[39;00m \u001b[39mrange\u001b[39m(\u001b[39m5\u001b[39m):\n\u001b[1;32m---> <a href='vscode-notebook-cell:/c%3A/Users/SSAFY/Desktop/my_lecture/02_algorithem/12week/graph/graph.ipynb#W3sZmlsZQ%3D%3D?line=11'>12</a>\u001b[0m     \u001b[39mif\u001b[39;00m graph[now][\u001b[39mnext\u001b[39m] \u001b[39m==\u001b[39m\u001b[39m0\u001b[39m:\n\u001b[0;32m     <a href='vscode-notebook-cell:/c%3A/Users/SSAFY/Desktop/my_lecture/02_algorithem/12week/graph/graph.ipynb#W3sZmlsZQ%3D%3D?line=12'>13</a>\u001b[0m         \u001b[39mcontinue\u001b[39;00m\n\u001b[0;32m     <a href='vscode-notebook-cell:/c%3A/Users/SSAFY/Desktop/my_lecture/02_algorithem/12week/graph/graph.ipynb#W3sZmlsZQ%3D%3D?line=14'>15</a>\u001b[0m     \u001b[39mif\u001b[39;00m visited[\u001b[39mnext\u001b[39m]:\n",
      "\u001b[1;31mNameError\u001b[0m: name 'graph' is not defined"
     ]
    }
   ],
   "source": [
    "#dfs_재귀\n",
    "# mpa 크기(길이)를 알 때, append 형식 말고 아래와 같이 사용하면 훨씬 빠르다.\n",
    "\n",
    "visited = [0] * 5\n",
    "path = [] # 방문 순서 기록\n",
    "\n",
    "def dfs(now):\n",
    "    visited[now] = 1 # 현재 지점 방문 표시\n",
    "    # print(now, end =' ')\n",
    "    path.append(now)\n",
    "    # 인접한 노드들을 방문\n",
    "    for next in range(5):\n",
    "        if graph[now][next] ==0:\n",
    "            continue\n",
    "\n",
    "        if visited[next]:\n",
    "            continue\n",
    "\n",
    "\n",
    "        dfs(next)\n",
    "\n",
    "\n",
    "print('dfs 재귀 =', end = ' ')\n",
    "dfs(0)\n",
    "print(path)\n",
    "    # *************재귀 방법 순서*******************\n",
    "    # 1. 기저 조건\n",
    "    # 2. 들어가기 전\n",
    "    # 3. 함수 호출\n",
    "    # 4. 돌아와서 무엇을 하나.\n",
    "# 조금 있다 다운 받을 수 있나?\n"
   ]
  },
  {
   "cell_type": "code",
   "execution_count": 6,
   "metadata": {},
   "outputs": [
    {
     "name": "stderr",
     "output_type": "stream",
     "text": [
      "<>:4: SyntaxWarning: list indices must be integers or slices, not tuple; perhaps you missed a comma?\n",
      "<>:4: SyntaxWarning: list indices must be integers or slices, not tuple; perhaps you missed a comma?\n",
      "C:\\Users\\SSAFY\\AppData\\Local\\Temp\\ipykernel_2312\\3001624454.py:4: SyntaxWarning: list indices must be integers or slices, not tuple; perhaps you missed a comma?\n",
      "  [0,1,0,1,0]\n",
      "C:\\Users\\SSAFY\\AppData\\Local\\Temp\\ipykernel_2312\\3001624454.py:4: SyntaxWarning: list indices must be integers or slices, not tuple; perhaps you missed a comma?\n",
      "  [0,1,0,1,0]\n",
      "C:\\Users\\SSAFY\\AppData\\Local\\Temp\\ipykernel_2312\\3001624454.py:4: SyntaxWarning: list indices must be integers or slices, not tuple; perhaps you missed a comma?\n",
      "  [0,1,0,1,0]\n",
      "C:\\Users\\SSAFY\\AppData\\Local\\Temp\\ipykernel_2312\\3001624454.py:4: SyntaxWarning: list indices must be integers or slices, not tuple; perhaps you missed a comma?\n",
      "  [0,1,0,1,0]\n",
      "C:\\Users\\SSAFY\\AppData\\Local\\Temp\\ipykernel_2312\\3001624454.py:4: SyntaxWarning: list indices must be integers or slices, not tuple; perhaps you missed a comma?\n",
      "  [0,1,0,1,0]\n",
      "C:\\Users\\SSAFY\\AppData\\Local\\Temp\\ipykernel_2312\\3001624454.py:4: SyntaxWarning: list indices must be integers or slices, not tuple; perhaps you missed a comma?\n",
      "  [0,1,0,1,0]\n"
     ]
    },
    {
     "ename": "TypeError",
     "evalue": "list indices must be integers or slices, not tuple",
     "output_type": "error",
     "traceback": [
      "\u001b[1;31m---------------------------------------------------------------------------\u001b[0m",
      "\u001b[1;31mTypeError\u001b[0m                                 Traceback (most recent call last)",
      "\u001b[1;32mc:\\Users\\SSAFY\\Desktop\\my_lecture\\02_algorithem\\12week\\graph\\graph.ipynb Cell 5\u001b[0m line \u001b[0;36m4\n\u001b[0;32m      <a href='vscode-notebook-cell:/c%3A/Users/SSAFY/Desktop/my_lecture/02_algorithem/12week/graph/graph.ipynb#W4sZmlsZQ%3D%3D?line=0'>1</a>\u001b[0m \u001b[39m# BFS 인접 행렬 \u001b[39;00m\n\u001b[0;32m      <a href='vscode-notebook-cell:/c%3A/Users/SSAFY/Desktop/my_lecture/02_algorithem/12week/graph/graph.ipynb#W4sZmlsZQ%3D%3D?line=2'>3</a>\u001b[0m graph \u001b[39m=\u001b[39m [\n\u001b[1;32m----> <a href='vscode-notebook-cell:/c%3A/Users/SSAFY/Desktop/my_lecture/02_algorithem/12week/graph/graph.ipynb#W4sZmlsZQ%3D%3D?line=3'>4</a>\u001b[0m     [\u001b[39m0\u001b[39;49m,\u001b[39m1\u001b[39;49m,\u001b[39m0\u001b[39;49m,\u001b[39m1\u001b[39;49m,\u001b[39m0\u001b[39;49m]\n\u001b[0;32m      <a href='vscode-notebook-cell:/c%3A/Users/SSAFY/Desktop/my_lecture/02_algorithem/12week/graph/graph.ipynb#W4sZmlsZQ%3D%3D?line=4'>5</a>\u001b[0m     [\u001b[39m1\u001b[39;49m,\u001b[39m0\u001b[39;49m,\u001b[39m1\u001b[39;49m,\u001b[39m1\u001b[39;49m,\u001b[39m1\u001b[39;49m]\n\u001b[0;32m      <a href='vscode-notebook-cell:/c%3A/Users/SSAFY/Desktop/my_lecture/02_algorithem/12week/graph/graph.ipynb#W4sZmlsZQ%3D%3D?line=5'>6</a>\u001b[0m     [\u001b[39m0\u001b[39m,\u001b[39m1\u001b[39m,\u001b[39m0\u001b[39m,\u001b[39m0\u001b[39m,\u001b[39m0\u001b[39m]\n\u001b[0;32m      <a href='vscode-notebook-cell:/c%3A/Users/SSAFY/Desktop/my_lecture/02_algorithem/12week/graph/graph.ipynb#W4sZmlsZQ%3D%3D?line=6'>7</a>\u001b[0m     [\u001b[39m1\u001b[39m,\u001b[39m1\u001b[39m,\u001b[39m0\u001b[39m,\u001b[39m0\u001b[39m,\u001b[39m1\u001b[39m]\n\u001b[0;32m      <a href='vscode-notebook-cell:/c%3A/Users/SSAFY/Desktop/my_lecture/02_algorithem/12week/graph/graph.ipynb#W4sZmlsZQ%3D%3D?line=7'>8</a>\u001b[0m     [\u001b[39m0\u001b[39m,\u001b[39m1\u001b[39m,\u001b[39m0\u001b[39m,\u001b[39m1\u001b[39m,\u001b[39m0\u001b[39m]\n\u001b[0;32m      <a href='vscode-notebook-cell:/c%3A/Users/SSAFY/Desktop/my_lecture/02_algorithem/12week/graph/graph.ipynb#W4sZmlsZQ%3D%3D?line=8'>9</a>\u001b[0m     ]\n\u001b[0;32m     <a href='vscode-notebook-cell:/c%3A/Users/SSAFY/Desktop/my_lecture/02_algorithem/12week/graph/graph.ipynb#W4sZmlsZQ%3D%3D?line=10'>11</a>\u001b[0m \u001b[39mdef\u001b[39;00m \u001b[39mbfs\u001b[39m(start):\n\u001b[0;32m     <a href='vscode-notebook-cell:/c%3A/Users/SSAFY/Desktop/my_lecture/02_algorithem/12week/graph/graph.ipynb#W4sZmlsZQ%3D%3D?line=11'>12</a>\u001b[0m     visited \u001b[39m=\u001b[39m [\u001b[39m0\u001b[39m] \u001b[39m*\u001b[39m \u001b[39m5\u001b[39m\n",
      "\u001b[1;31mTypeError\u001b[0m: list indices must be integers or slices, not tuple"
     ]
    }
   ],
   "source": [
    "# BFS 인접 행렬 \n",
    "\n",
    "graph = [\n",
    "    [0,1,0,1,0]\n",
    "    [1,0,1,1,1]\n",
    "    [0,1,0,0,0]\n",
    "    [1,1,0,0,1]\n",
    "    [0,1,0,1,0]\n",
    "    ]\n",
    "\n",
    "def bfs(start):\n",
    "    visited = [0] * 5\n",
    "\n",
    "    # 먼저 방문 했던 것을 먼저 처리해야 한다. => queue사용\n",
    "    queue = [start]\n",
    "    visited[start] = 1\n",
    "    while queue:\n",
    "        # queue의 맨 앞 요소를 꺼냄.\n",
    "        now = queue.pop(0)\n",
    "        print(now, end = ' ')\n",
    "\n",
    "        # 인접한 노드들을 queue에 추가\n",
    "        for next in range(5):\n",
    "            # 연결이 안되어 있다면 continue\n",
    "            if graph[now][next] ==0:\n",
    "                continue\n",
    "\n",
    "            # 방문한 지점이라면 queue에 추가하지 않음\n",
    "            if visited[next]:\n",
    "                continue\n",
    "\n",
    "\n",
    "            queue.append(next)\n",
    "            # bfs이므로 여기서 방문 체크를 해도 상관없다.\n",
    "            visited[next] = 1\n",
    "\n",
    "bfs(0)\n",
    "\n",
    "\n"
   ]
  },
  {
   "cell_type": "markdown",
   "metadata": {},
   "source": [
    "서로소 집합(disjoint-sets)\n",
    "- 서로 중복 포함된 원소가 없는 집합들. 다시 말해 교집합이 없다.\n",
    "- 집합에 속한 하나의 특정 멤버를 통해 각 집합들을 구분한다. 이를 대표자(representatiove)라고 한다.\n",
    "\n",
    "1. 대표자 저장을 어떻게 저장할지 (find-set(x))\n",
    "2. 각 요소가 내가 속한 그룹의 대표자를 어떻게 찾을지??(union(x,y))\n",
    "코드가 굉장히 짧고 간결해, 배열하나 쓰고 재귀 도릴면 대표자 나오고 뭔가 된다는데\n",
    "개념 못잡으면 이해 못한다.\n",
    "\n",
    "대표자 x,y,a,b\n",
    "      x,y,a,b\n"
   ]
  },
  {
   "cell_type": "markdown",
   "metadata": {},
   "source": [
    "상호배타 집합 구현 방법 - 2가지 방법 있음.\n",
    "\n",
    "1. 연결리스트 - 이진트리 left, right와 같다고 함.\n",
    "\n",
    "2. 트리 \n",
    " - 하나의 집합(a disjoint set)을 하나의 트리로 나타낸다.\n",
    " - 트리로 하는 게 훨씬 편할 거라고 함.\n",
    "\n",
    " "
   ]
  },
  {
   "cell_type": "code",
   "execution_count": null,
   "metadata": {},
   "outputs": [],
   "source": [
    "### 서로소 집합들\n"
   ]
  },
  {
   "cell_type": "code",
   "execution_count": 17,
   "metadata": {},
   "outputs": [
    {
     "name": "stdout",
     "output_type": "stream",
     "text": [
      "[0, 1, 2, 3, 4, 5, 6, 7, 8, 9]\n",
      "0\n",
      "0\n",
      "0와 1는 같은 집합에 속해 있습니다.\n"
     ]
    }
   ],
   "source": [
    "# 상호배타집합\n",
    "# 1~10\n",
    "# 각 요소가 가리키는 값이 부모\n",
    "# make-set 집합을 만들어 주는 과정\n",
    "parent = [i for i in range(4)]\n",
    "\n",
    "# find - set\n",
    "def find_set(x):\n",
    "    if parent[x] == x:\n",
    "        return x\n",
    "\n",
    "    return find_set(parent[x])\n",
    "\n",
    "    # 경로 압축\n",
    "    parent[x] = find_set(parent[x])\n",
    "    return parent[x]\n",
    "\n",
    "# union x, y 중 더 작은 값을 부모로 만드는 함수\n",
    "def union(x,y):\n",
    "    #1. 이미 같은 집합인지 체크 union(1,1) 이렇게 같은 값이거나 아래 두 과정 이미 거쳐서 union 완료된 경우.\n",
    "    x = find_set(x)\n",
    "    y = find_set(y)\n",
    "\n",
    "    # 대표자가 같으니, 같은 집합이다.\n",
    "    if x==y:\n",
    "        print('싸이클 발생')\n",
    "        return\n",
    "\n",
    "    #2. 다른 집합이라면, 같은 대표자로 수정\n",
    "    if x<y:\n",
    "        parent[y] = x\n",
    "    #3.\n",
    "    else:\n",
    "        parent[x] = y\n",
    "\n",
    "\n",
    "print(parent)\n",
    "union(0,1)\n",
    "\n",
    "union(2,3)\n",
    "\n",
    "union(1,3)\n",
    "# 대표자 검색\n",
    "print(find_set(2))\n",
    "print(find_set(3))\n",
    "\n",
    "# 같은 그룹인지 판별\n",
    "t_x = 0\n",
    "t_y = 1\n",
    "\n",
    "if find_set(t_x) == find_set(t_y):\n",
    "    print(f'{t_x}와 {t_y}는 같은 집합에 속해 있습니다.')\n",
    "else:\n",
    "    print(f'{t_x}와 {t_y}는 다른 집합에 속해 있습니다.')\n",
    "\n",
    "# 활용은 어떻게 하나?\n",
    "# 이미 같은 집합에 속해 있는 원소를 한번 더 union\n",
    "# 싸이클 발생을 확인할 수 있다.\n",
    "\n"
   ]
  },
  {
   "cell_type": "code",
   "execution_count": 11,
   "metadata": {},
   "outputs": [
    {
     "name": "stdout",
     "output_type": "stream",
     "text": [
      "[0, 1, 2, 3, 4, 5, 6, 7, 8, 9]\n"
     ]
    }
   ],
   "source": [
    "a = [i for i in range(10)]\n",
    "print(a)"
   ]
  },
  {
   "cell_type": "code",
   "execution_count": 12,
   "metadata": {},
   "outputs": [
    {
     "name": "stdout",
     "output_type": "stream",
     "text": [
      "3\n"
     ]
    }
   ],
   "source": [
    "parent = [i for i in range(10)]\n",
    "\n",
    "# find - set\n",
    "def find_set(x):\n",
    "    if parent[x] == x:\n",
    "        return x\n",
    "\n",
    "    return find_set(parent[x])\n",
    "\n",
    "print(find_set(3))"
   ]
  }
 ],
 "metadata": {
  "kernelspec": {
   "display_name": "Python 3",
   "language": "python",
   "name": "python3"
  },
  "language_info": {
   "codemirror_mode": {
    "name": "ipython",
    "version": 3
   },
   "file_extension": ".py",
   "mimetype": "text/x-python",
   "name": "python",
   "nbconvert_exporter": "python",
   "pygments_lexer": "ipython3",
   "version": "3.9.13"
  },
  "orig_nbformat": 4
 },
 "nbformat": 4,
 "nbformat_minor": 2
}
