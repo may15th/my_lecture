{
 "cells": [
  {
   "cell_type": "markdown",
   "metadata": {},
   "source": [
    "## 순열, 중복순열, 조합, 중복 조합\n"
   ]
  },
  {
   "cell_type": "code",
   "execution_count": 5,
   "metadata": {},
   "outputs": [
    {
     "name": "stdout",
     "output_type": "stream",
     "text": [
      "3\n",
      "[True, True, True]\n",
      "[1, 2, 3]\n"
     ]
    }
   ],
   "source": [
    "# 순열\n",
    "\n",
    "# nPr : n개의 요소중, r개를 사용하여 순열\n",
    "\n",
    "# r : 내가 사용하고 있는 값의 수\n",
    "\n",
    "def perm(r):\n",
    "    # 재귀 함수\n",
    "    if r == N:\n",
    "        print(r)\n",
    "        print(visited)\n",
    "        print(completed_perm)\n",
    "        return\n",
    "\n",
    "    else:\n",
    "        # 내가 가진 arr의 모든 원소를 매번 사용할 것인지 체크\n",
    "        for i in range(N):\n",
    "            # arr의 i번째 요소 쓴적이 있는지 없는지를 기준으로 판단\n",
    "            if not visited[i]: # i번째 쓰지 않았다면\n",
    "                visited[i] = True\n",
    "                completed_perm[r] = arr[i]\n",
    "                perm(r+1) #재귀\n",
    "\n",
    "\n",
    "arr = [1,2,3]\n",
    "N = len(arr)\n",
    "# 내가 perm 함수 호출 시 arr의 i번째 값을 썼었던 적이 있는지 판별 하기 위함.\n",
    "visited = [0] * N\n",
    "# 최종적으로 온성될 순열을 담아 둘 리스트\n",
    "completed_perm = [0] *N\n",
    "\n",
    "perm(0)\n"
   ]
  },
  {
   "cell_type": "markdown",
   "metadata": {},
   "source": []
  },
  {
   "cell_type": "markdown",
   "metadata": {},
   "source": []
  },
  {
   "cell_type": "markdown",
   "metadata": {},
   "source": []
  },
  {
   "cell_type": "code",
   "execution_count": null,
   "metadata": {},
   "outputs": [],
   "source": []
  }
 ],
 "metadata": {
  "kernelspec": {
   "display_name": "Python 3",
   "language": "python",
   "name": "python3"
  },
  "language_info": {
   "codemirror_mode": {
    "name": "ipython",
    "version": 3
   },
   "file_extension": ".py",
   "mimetype": "text/x-python",
   "name": "python",
   "nbconvert_exporter": "python",
   "pygments_lexer": "ipython3",
   "version": "3.9.13"
  },
  "orig_nbformat": 4
 },
 "nbformat": 4,
 "nbformat_minor": 2
}
