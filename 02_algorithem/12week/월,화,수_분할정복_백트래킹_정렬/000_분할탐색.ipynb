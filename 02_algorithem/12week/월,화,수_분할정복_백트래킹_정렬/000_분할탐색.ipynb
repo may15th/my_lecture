{
 "cells": [
  {
   "cell_type": "markdown",
   "metadata": {},
   "source": [
    "- 알고리즘 설계 기법 종류\n",
    "1. 전체를 다보자 - Brute Force - 완전탐색\n",
    " - 배열 : 반복문을 다 돌리기\n",
    " - 그래프 : DFS, BFS\n",
    "\n",
    "2. 상황마다 좋은 걸 고르자 - Greedy - 탐욕 알고리즘\n",
    " - 규칙을 찾는 것\n",
    " - 주의사항 : 항상 좋은 것을 뽑아도, 최종 결과가 제일 좋음은 보장되지 않느다.\n",
    "\n",
    "3. 하나의 큰 문제를 작은 문제로 나누어 부분적으로 해결 - Dynamic Programming\n",
    " - 분할정복과는 개념이 조금 다름.\n",
    " - Memoization 기법을 활용\n",
    " (부분적으로 문제 해결해놓은 걸 다시 쓰는 법)\n",
    " - 점화식 이용한 (bottom-up) 방법과, 재귀 방식이 (top-down) 있다.\n",
    "\n",
    "4. Divede and Conquer - 분할정복\n",
    " - 큰 문제를 작은 문제로 쪼개서 해결\n",
    " \n",
    "\n",
    "\n",
    "5. Bcktracking - 백트래킹\n",
    " - 전체를 보되, 가능성 없는 것을 빼고 보자.\n",
    " - 가지치기 pruning\n",
    " "
   ]
  },
  {
   "cell_type": "markdown",
   "metadata": {},
   "source": [
    "1. 분할 탐색의 대표\n",
    "병합정렬, 퀵정렬이 있음.\n",
    "\n",
    "정복 = 정렬한다.\n",
    "최소단위로 나눴다가 다시 합치면서 정렬함.\n",
    "\n",
    "시간복잡도\n",
    "O(n long n)\n",
    "\n"
   ]
  },
  {
   "cell_type": "code",
   "execution_count": null,
   "metadata": {},
   "outputs": [],
   "source": []
  },
  {
   "cell_type": "markdown",
   "metadata": {},
   "source": [
    "2. 퀵 정렬\n",
    " - 주어진 배열을 두 개로 분할, 각각을 정렬한다.\n",
    " - 다른 점1: 병합 정렬은 그냥 두 부분으로 나누는 반면에, 퀵정렬은 분할할 때,\n",
    " 기준 아이템(pivot item) 중심으로 작은것은 왼편, 튼 것은 오른 편에 위치 시ㅣㄴ다.\n",
    "  - 각 부분 정렬이 끝난 후, 병합정렬은 '병합'이라는 후처리 작업이 필요하나,\n",
    "  퀵정렬은 필요하지 않다.\n",
    "\n",
    "3. i,j를 이동시키는 알고리즘 2가지\n",
    "\n",
    " - hoare 파티션\n",
    "  i,j를 처음과 끝에 위치하도록 만들고, i는 피봇보다 큰 값 찾고, j른 오른쪽에서 피봇보다 작은 값 찾는다. 그리고 찾은 값 하나씩 교환.\n",
    "  교환후 피봇 아이템은 작읍값과 큰값들 경계로 이동.(작은값 끝값 인덱스 +1 하거나 큰큰값들 중 가장 작은 값 -1할듯.)\n",
    "\n",
    " - lomuto 파티션\n",
    "  i,j 모두 0번 인덱스에서 시작 i,j가 피봇값보다 큰 지 확인.\n",
    "  기준값보다 값이 작을 경우 i,j ++ 해주고, 클겨우 j만 ++\n",
    "  i는 멈추고 j가 이동하면서 기준값조다 작은 값 나오면 i+1인덱스값과 j인덱스값을 교환\n",
    "  다 순회할 경우 기준값인 r값과 기준값보다 큰 값 위치 교환\n"
   ]
  },
  {
   "cell_type": "markdown",
   "metadata": {},
   "source": [
    "sort(), sorted()\n",
    "내장 라이브러리가 굉장히 강력!\n",
    "\n",
    "\n",
    "총정리\n",
    "\n",
    "병합정렬\n",
    "- 직접 구현할 일은 적다\n",
    " -> 멀티 쓰레드 - 기술면접 준비할 때 운영체제에서 이부분 공부하게 될 것.\n",
    " 분할정복이라는 개념이 나누어서 처리한 다음 합치자. \n",
    " 그게 멀티 쓰레드 개념과 밀접 연관.\n",
    "\n",
    "- 과거 면접 단골 질문 + 분할정복 학습에 좋다\n",
    " -> 평균적으로 굉장히 좋음(NlogN)\n",
    " \n",
    "퀵 정렬\n",
    "- 직접 구현할 일은 적다\n",
    "- 과거 면접 단골 질문 + 분할정복 학습에 좋다\n"
   ]
  },
  {
   "cell_type": "markdown",
   "metadata": {},
   "source": [
    "# 이진 검색\n",
    "- 코테 단골 문제!!\n",
    "- 코딩 테스트의 메인 알고리즘 중 하나\n",
    "- 목적 : \"원하는 값을 빨리 찾는 것\"\n",
    "- 시간 : O(logN)\n",
    "\n",
    "검색에서 원하는 데이터를 빨리 찾는 방법\n",
    "\n",
    "\n",
    "\n",
    "B형 노린다면!\n",
    "-Parametric Search\n",
    " - lower bound\n",
    " - upper bound\n",
    "  - 여러 개의 데이터 중 2가 처음 나온 시점\n",
    "  - 2~9 사이의 데이터는 몇 개?"
   ]
  },
  {
   "cell_type": "code",
   "execution_count": 4,
   "metadata": {},
   "outputs": [
    {
     "name": "stdout",
     "output_type": "stream",
     "text": [
      "9= 3\n",
      "4= 1\n",
      "3= 해당 데이터는 없습니다.\n"
     ]
    }
   ],
   "source": [
    "# 이진검색 - 반복문 이용한 풀이\n",
    "\n",
    "arr = [2,4,7,9,11,19,23]\n",
    "# 정렬 반드시 수행\n",
    "arr.sort()\n",
    "\n",
    "def binarySearch(target):\n",
    "    low = 0\n",
    "    high = len(arr)-1\n",
    "    \n",
    "    #low > high 라면 데이터를 못찾은 경우\n",
    "    while low <= high:\n",
    "        mid = (low+high)//2\n",
    "\n",
    "        # 1. 가운데 값이 정답인 경우\n",
    "        if arr[mid] == target:\n",
    "            return mid\n",
    "\n",
    "        # 2. 가운데 값이 정답보다 큰 경우\n",
    "        elif arr[mid] < target:\n",
    "            low = mid +1\n",
    "\n",
    "        # 3. 가운데 값이 정답보다 작은 경우\n",
    "        else:\n",
    "            high = mid -1\n",
    "\n",
    "    return \"해당 데이터는 없습니다.\"\n",
    "print(f'9= {binarySearch(9)}')\n",
    "print(f'4= {binarySearch(4)}')\n",
    "print(f'3= {binarySearch(3)}')\n",
    "\n",
    "\n",
    "\n",
    "\n",
    "                                                                                                                                                                                                                                                                                                                                                                                                                                                                 "
   ]
  },
  {
   "cell_type": "code",
   "execution_count": 7,
   "metadata": {},
   "outputs": [
    {
     "name": "stdout",
     "output_type": "stream",
     "text": [
      "9= 3\n",
      "4= 1\n",
      "3= -1\n"
     ]
    }
   ],
   "source": [
    "# 이진검색 - 반복문\n",
    "arr = [2,4,7,9,11,19,23]\n",
    "# 정렬 반드시 수행\n",
    "arr.sort()\n",
    "\n",
    "# 함수 호출 떄마다 low, high 변수가 바뀌어 사요됨.\n",
    "def binarySearch(low, high, target):\n",
    "    #기저 조건 : 언제까지 재귀호출을 반복할 것인가?\n",
    "    # low > high 라면 데이터 못찾음\n",
    "    if low > high:\n",
    "        return - 1\n",
    "\n",
    "    mid = (low+high)//2\n",
    "\n",
    "    # 1. 가운데 값이 정답인 경우\n",
    "    if target == arr[mid]:\n",
    "        return mid\n",
    "\n",
    "    # 2. 타겟이 가운데 값보다 큰 경우\n",
    "    elif arr[mid] < target:\n",
    "        return binarySearch(mid+1, high, target)\n",
    "\n",
    "    # 3. 타겟이 가운데 값보다 작은 경우\n",
    "    else:\n",
    "        return binarySearch(low, mid-1, target)\n",
    "\n",
    "print(f'9= {binarySearch(0, len(arr)-1,9)}')\n",
    "print(f'4= {binarySearch(0, len(arr)-1,4)}')\n",
    "print(f'3= {binarySearch(0, len(arr)-1,3)}')\n"
   ]
  },
  {
   "cell_type": "markdown",
   "metadata": {},
   "source": []
  },
  {
   "cell_type": "markdown",
   "metadata": {},
   "source": []
  },
  {
   "cell_type": "code",
   "execution_count": null,
   "metadata": {},
   "outputs": [],
   "source": []
  }
 ],
 "metadata": {
  "kernelspec": {
   "display_name": "Python 3",
   "language": "python",
   "name": "python3"
  },
  "language_info": {
   "codemirror_mode": {
    "name": "ipython",
    "version": 3
   },
   "file_extension": ".py",
   "mimetype": "text/x-python",
   "name": "python",
   "nbconvert_exporter": "python",
   "pygments_lexer": "ipython3",
   "version": "3.9.13"
  },
  "orig_nbformat": 4
 },
 "nbformat": 4,
 "nbformat_minor": 2
}
