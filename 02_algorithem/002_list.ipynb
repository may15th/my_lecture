{
 "cells": [
  {
   "cell_type": "markdown",
   "metadata": {},
   "source": [
    "# 델타를 이용한 2차 배열 탐색\n",
    "- 2차원 배열의 한 좌표에서 4방향 인접 배열 요소를 탐색하는 방법\n",
    "(im 평가 단골 소재)\n",
    "# 행우선 열우선 탐색은 항상 시간 날 때마다 보고 달달 외운다는 생각으로 해야.\n",
    "# 델타도 마찬가지."
   ]
  },
  {
   "cell_type": "code",
   "execution_count": 1,
   "metadata": {},
   "outputs": [
    {
     "ename": "SyntaxError",
     "evalue": "invalid syntax (4060397831.py, line 13)",
     "output_type": "error",
     "traceback": [
      "\u001b[1;36m  Cell \u001b[1;32mIn[1], line 13\u001b[1;36m\u001b[0m\n\u001b[1;33m    arr = [list(map(int, input().split())) for_in range(N)]\u001b[0m\n\u001b[1;37m                                           ^\u001b[0m\n\u001b[1;31mSyntaxError\u001b[0m\u001b[1;31m:\u001b[0m invalid syntax\n"
     ]
    }
   ],
   "source": [
    "# 1 상하좌우 행렬 값 덧셈\n",
    "\n",
    "\n",
    "'''\n",
    "3\n",
    "1 2 3\n",
    "4 5 6\n",
    "7 8 9\n",
    "'''\n",
    "\n",
    "di = [0, 1, 0, -1]\n",
    "dj = [1, 0, -1, 0]\n",
    "\n",
    "\n",
    "N = int(input())\n",
    "arr = [list(map(int, input().split())) for _ in range(N)]\n",
    "\n",
    "max_v = 0 #모든 원소가 0이상이라면...\n",
    "for i in range(N):\n",
    "    for j in range(N):\n",
    "        #arr [i][j]중심으로\n",
    "        s = arr[i][j]\n",
    "        for k in range(4):\n",
    "            ni, nj = i + di[k], j + dj[k]\n",
    "            if 0<=ni<N and 0<=nj<N:   #배열을 벗어나지 않으면\n",
    "                s += arr[ni][nj]\n",
    "        #여기까지 주변 원소를 포함한 합\n",
    "        if max_v < s:\n",
    "            max_v = s\n",
    "\n",
    "\n",
    "print(arr)\n",
    "\n"
   ]
  },
  {
   "cell_type": "code",
   "execution_count": null,
   "metadata": {},
   "outputs": [],
   "source": [
    "#2 상하좌우 행렬 덧셈 다른 풀이\n",
    "\n",
    "'''\n",
    "3\n",
    "1 2 3\n",
    "4 5 6\n",
    "7 8 9\n",
    "'''\n",
    "\n",
    "\n",
    "N = int(input())\n",
    "arr = [list(map(int, input().split())) for_in range(N)]\n",
    "\n",
    "max_v = 0 #모든 원소가 0이상이라면...\n",
    "for i in range(N):\n",
    "    for j in range(N):\n",
    "        #arr [i][j]중심으로\n",
    "        s = arr[i][j]\n",
    "        for di, dj in [[0,1],[1,0],[0,-1],[-1,0]]:\n",
    "            ni, nj = i + di, j + dj\n",
    "            if 0<=ni and 0<=nj<N:   #배열을 벗어나지 않으면\n",
    "                s += arr[ni][nj]\n",
    "        #여기까지 주변 원소를 포함한 합\n",
    "        if max_v < s:\n",
    "            max_v = s\n",
    "\n",
    "\n",
    "print(arr)"
   ]
  },
  {
   "cell_type": "code",
   "execution_count": null,
   "metadata": {},
   "outputs": [],
   "source": [
    "# 3 행렬 덧셈 십자 모양 p만큼 확장\n",
    "\n",
    "\n",
    "'''\n",
    "3\n",
    "1 2 3\n",
    "4 5 6\n",
    "7 8 9\n",
    "'''\n",
    "\n",
    "di = [0, 1, 0, -1]\n",
    "dj = [1, 0, -1, 0]\n",
    "\n",
    "\n",
    "N = int(input())\n",
    "arr = [list(map(int, input().split())) for _ in range(N)]\n",
    "\n",
    "max_v = 0 #모든 원소가 0이상이라면...\n",
    "for i in range(N):\n",
    "    for j in range(N):\n",
    "        #arr [i][j]중심으로\n",
    "        s = arr[i][j]\n",
    "        for p in range(1, N):\n",
    "            for di,dj in [[0,1],[1,0],[0,-1],[-1,0]]:\n",
    "                ni, nj = i + di*p, j + dj*p\n",
    "                if 0<=ni<N and 0<=nj<N:   #배열을 벗어나지 않으면\n",
    "                    s += arr[ni][nj]\n",
    "        #여기까지 주변 원소를 포함한 합\n",
    "        if max_v < s:\n",
    "            max_v = s\n",
    "\n",
    "\n",
    "print(arr)\n",
    "\n",
    "\n",
    "\n"
   ]
  },
  {
   "cell_type": "code",
   "execution_count": null,
   "metadata": {},
   "outputs": [],
   "source": [
    "#4 전치 행렬 구하기\n",
    "arr[[1,2,3],[4,5,6][7,8,9]]\n",
    "\n",
    "for i in range(3):\n",
    "    for j in range(3):\n",
    "        if i < j:\n",
    "            arr[i][j], arr[j][i] = arr[j][i], arr[i][j]\n",
    "            "
   ]
  },
  {
   "cell_type": "code",
   "execution_count": null,
   "metadata": {},
   "outputs": [],
   "source": [
    "# 반전 전치행렬 구하기(우대각 기준 전치행렬)\n",
    "\n",
    "N= int(input())\n",
    "arr = [list(map(int,input().split())) for _ in range(N)]\n",
    "total1 = 0\n",
    "total2 = 0\n",
    "for i in range(N):\n",
    "    total1 += arr[i][i]\n",
    "\n",
    "for i in range(N):\n",
    "    total2 += arr[i][N-i-1]\n",
    "\n"
   ]
  },
  {
   "cell_type": "markdown",
   "metadata": {},
   "source": [
    "# 2차원 배열 김구현 교수님 \n",
    "\n",
    "## 행 우선 조회\n",
    "for i in rnage(n)\n",
    "    for j in range(m):\n",
    "        f(Array[i][j]) #필요한 연산 수행\n",
    "\n",
    "## 부분집합의 합\n",
    "- << 연산자\n",
    "1 << n : 1을 n만큼 비트 좌측 이동\n",
    "2*3 = 1 <<3 1000(2진법(0~7)) = 8\n",
    "- & 연산\n",
    "\n",
    "### 비트연산 왜 쓰나요?\n",
    "- 비트 연산이 훠어어얼~씬 빠르다\n",
    "- 컴퓨터 연산처리 0,1 이진법으로 처리."
   ]
  },
  {
   "cell_type": "code",
   "execution_count": 3,
   "metadata": {},
   "outputs": [
    {
     "name": "stdout",
     "output_type": "stream",
     "text": [
      "1\n"
     ]
    }
   ],
   "source": [
    "## 부분집합의 합 코드 sum_of_subset\n",
    "\n",
    "\n",
    "\n",
    "numbers = [-7,-3,-2,5,8]\n",
    "N = 5\n",
    "\n",
    "# numbers로 만들 수 있는 모든 경우의 수\n",
    "# 1<<N == 2*N\n",
    "# 0001 -> 1000\n",
    "for x in range(1<<N): #100000\n",
    "    result = 0 #매 경우 초기화 돼야.\n",
    "    #그 모든 경우의 수에서\n",
    "    #number의 y번쨰 요소가\n",
    "    #x번 경우의 수에 사용되었는지 판별\n",
    "    # x번 경우의 수가 1일때 bit -> 0001\n",
    "    # numbers의 y번째요소(0번째 요소) -> (1<<y)\n",
    "    # numbers의 0번째 요소가 0001 -> (1<<0)\n",
    "    #numbers의 1번째 요소가 0010 -> (1<<1)\n",
    "    for y in range(N):\n",
    "        if x & (1<<y):          #1<<y 로하면 자동으로 0-> 001 1-> 010 ,2->100\n",
    "            result += numbers[y]\n",
    "    if result ==0:\n",
    "        print(1)\n",
    "        break\n",
    "\n",
    "\n",
    "\n",
    "\n",
    "\n"
   ]
  },
  {
   "cell_type": "code",
   "execution_count": 4,
   "metadata": {},
   "outputs": [
    {
     "ename": "SyntaxError",
     "evalue": "invalid syntax (4124597821.py, line 2)",
     "output_type": "error",
     "traceback": [
      "\u001b[1;36m  Cell \u001b[1;32mIn[4], line 2\u001b[1;36m\u001b[0m\n\u001b[1;33m    for i in range(n)\u001b[0m\n\u001b[1;37m                     ^\u001b[0m\n\u001b[1;31mSyntaxError\u001b[0m\u001b[1;31m:\u001b[0m invalid syntax\n"
     ]
    }
   ],
   "source": [
    "## 행 우선 조회\n",
    "for i in range(n)\n",
    "    for j in range(m):\n",
    "        f(Array[i][j]) #필요한 연산 수행"
   ]
  },
  {
   "cell_type": "code",
   "execution_count": null,
   "metadata": {},
   "outputs": [],
   "source": [
    "## 비트 연산을 이용한 부분집합 구하기 문제\n"
   ]
  },
  {
   "cell_type": "code",
   "execution_count": null,
   "metadata": {},
   "outputs": [],
   "source": [
    "#델타 이용 2차 배열 탐색\n",
    "# 전치행렬의 쓰임?\n",
    "\n",
    "\n",
    "#부"
   ]
  },
  {
   "cell_type": "code",
   "execution_count": 5,
   "metadata": {},
   "outputs": [],
   "source": [
    "# 연습문제 1 \n",
    "\n",
    "# 5*5 2차 배열 무작위 25개 숫자 초기화\n",
    "# 25개 각 요소 이웃한 요소와 차 절댓값\n",
    "# 25개 요소 대해 모두 조사 총합\n",
    "# 벽에 있는 요소는 이웃한 요소가 없을 수 있음.\n",
    "\n",
    "\n",
    "'''\n",
    "3\n",
    "5\n",
    "45 15 10 56 23\n",
    "96 98 99 40 69\n",
    "96 84 49 46 34\n",
    "16 64 81 4 11\n",
    "10 66 85 55 14\n",
    "5\n",
    "44 91 64 73 62\n",
    "78 72 52 73 48\n",
    "44 88 55 75 24\n",
    "22 72 59 26 62\n",
    "87 11 64 79 40\n",
    "5\n",
    "10 10 10 10 10\n",
    "'''\n",
    "\n",
    "\n",
    "T = int(input())\n",
    "\n",
    "di = [0, 1, 0, -1]  #상하좌우 값을 구해주기 위한 di,dj리스트 생성\n",
    "dj = [1, 0, -1, 0]\n",
    "\n",
    "for tc in range (1, T+1):\n",
    "    N = int(input())        #N*N행렬 생성\n",
    "    arr = [list(map(int, input().split)) for _ in range(N)]\n",
    "    sum = 0     #절댓값의 합을 구하기 위한 sum = 0으로 초기화\n",
    "    for i in range(N):\n",
    "        for j in range(N):\n",
    "            s = arr[i][j]       #\n",
    "            for k in range(4):\n",
    "                ni,nj = i + di[k], j +dj[k]\n",
    "                if 0<= ni < N and 0<= nj < N:\n",
    "                    sum += abs(arr[ni][nj] - s)\n",
    "\n",
    "print(sum)\n"
   ]
  },
  {
   "cell_type": "code",
   "execution_count": null,
   "metadata": {},
   "outputs": [],
   "source": [
    "# 연습문제 2\n",
    "\n",
    "# 10개 정수 입력 받아 부분집합 합이 0이 되는\n",
    "# 것 존재 1아닐 경우 0출력\n",
    "\n",
    "T = int(input())\n",
    "for tc in range(T):\n",
    "    "
   ]
  },
  {
   "cell_type": "code",
   "execution_count": null,
   "metadata": {},
   "outputs": [],
   "source": [
    "# 4837 부분집합의 합"
   ]
  },
  {
   "cell_type": "code",
   "execution_count": null,
   "metadata": {},
   "outputs": [],
   "source": [
    "# 4836 색칠하기\n",
    "\n",
    "#2차원 리스트\n",
    "# 행우선 조회 \n",
    "# 채우기 위한 0으로 가득찬 2차원 리스트\n",
    "# 2차원리스트 1 더해주고, 파란색 부분은 2더해주면 되지 않을까.\n",
    "\n",
    "\n"
   ]
  },
  {
   "cell_type": "code",
   "execution_count": 2,
   "metadata": {},
   "outputs": [],
   "source": [
    "# 1209 sum\n",
    "\n",
    "\n",
    "'''\n",
    "#input\n",
    "1\n",
    "13 24 13\n",
    "14 14 28\n",
    "26 13 6\n",
    "\n",
    "'''\n",
    "\n",
    "T = int(input())\n",
    "\n",
    "for tc in range(1,T+1):\n",
    "    sum = 0\n",
    "    max = 0\n",
    "    N = 3\n",
    "    arr = [list(map(int, input().split())) for _ in range(N)]\n",
    "    for i in range(N):\n",
    "        sum1 = arr[i][i]   #1.좌상 -> 우하 대각선 합\n",
    "        sum2 = arr[N-i-1][i]\n",
    "\n",
    "    print(sum1,sum2)\n",
    "\n",
    "\n",
    "\n",
    "\n",
    "\n",
    "\n",
    "        # for j in range(N):\n",
    "        #     s = arr[i][j]   \n",
    "            \n",
    "            \n",
    "            \n",
    "        #     for p in range(1, 100):\n",
    "        #         for k in range(8):\n",
    "        #             ni,nj = i +di[k], j +dj[k]\n",
    "        #             if 0 <= ni <N and 0<= nj <N:\n",
    "                    "
   ]
  }
 ],
 "metadata": {
  "kernelspec": {
   "display_name": "Python 3",
   "language": "python",
   "name": "python3"
  },
  "language_info": {
   "codemirror_mode": {
    "name": "ipython",
    "version": 3
   },
   "file_extension": ".py",
   "mimetype": "text/x-python",
   "name": "python",
   "nbconvert_exporter": "python",
   "pygments_lexer": "ipython3",
   "version": "3.9.13"
  },
  "orig_nbformat": 4
 },
 "nbformat": 4,
 "nbformat_minor": 2
}
